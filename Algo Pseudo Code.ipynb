{
 "cells": [
  {
   "cell_type": "markdown",
   "id": "unlike-alloy",
   "metadata": {},
   "source": [
    "## This is some rough pseudo code for algorithm ideas I have for my Master's research work.\n",
    "\n",
    "### Three main algorithms-rough structure/package implementation ideas for each."
   ]
  },
  {
   "cell_type": "code",
   "execution_count": 1,
   "id": "effective-visibility",
   "metadata": {},
   "outputs": [],
   "source": [
    "#import relevant packages\n",
    "from sklearn.cluster import AgglomerativeClustering, KMeans\n",
    "from sklearn.decomposition import PCA\n",
    "from sklearn.preprocessing import StandardScaler\n",
    "from sklearn.metrics import silhouette_samples, silhouette_score #(?)\n",
    "import matplotlib.pyplot as plt\n",
    "import pandas as pd"
   ]
  },
  {
   "cell_type": "markdown",
   "id": "middle-effort",
   "metadata": {},
   "source": [
    "# Pre-processing the data"
   ]
  },
  {
   "cell_type": "code",
   "execution_count": null,
   "id": "incredible-adventure",
   "metadata": {},
   "outputs": [],
   "source": [
    "#load in the data\n",
    "#assuming a set of spectra can be represented in the form of a pd dataframe\n",
    "    #where each row is a spectrum, each column is a flux value.\n",
    "\n",
    "df = #load data here"
   ]
  },
  {
   "cell_type": "code",
   "execution_count": null,
   "id": "neither-grocery",
   "metadata": {},
   "outputs": [],
   "source": [
    "#apply some kind of standardization across the fluxes?\n",
    "scaler = StandardScaler\n",
    "df = scaler.fit_transform(df)\n",
    "\n",
    "X = df"
   ]
  },
  {
   "cell_type": "markdown",
   "id": "agreed-custody",
   "metadata": {},
   "source": [
    "# Algorithm 1: \"Basic\" Clustering\n"
   ]
  },
  {
   "cell_type": "markdown",
   "id": "identified-command",
   "metadata": {},
   "source": [
    "A basic agglomerative clustering algorithm.\n",
    "\n",
    "- determine the optimal number of clusters using either a silhouette score or dendrogram visualization\n",
    "- deploy optimal clustering algorithm\n",
    "- apply a PCA decomp to retrieve feature space\n",
    "- visualize results\n",
    "- analyze key features of average spectra in each cluster- groupby, plots of each averaged spectra, etc"
   ]
  },
  {
   "cell_type": "code",
   "execution_count": null,
   "id": "tamil-pricing",
   "metadata": {},
   "outputs": [],
   "source": [
    "# explore the appropriate number of clusters to use\n",
    "n_cluster_range = [4,6,8,10,15] #a range of clusters to explore\n",
    "\n",
    "for n_cluster in n_cluster_range:\n",
    "    # initialize the clusterer with n_clusters and a random_seed for reproducability\n",
    "    clusterer = KMeans(n_clusters = n_clusters) #or AgglomerativeClustering(n_clusters, random_seed)\n",
    "    # generate cluster labels\n",
    "    cluster_labels = clusterer.fit_predict(X)\n",
    "    \n",
    "    #calculate silhouette scores\n",
    "    \n",
    "    #generate silhouette plot\n",
    "        # see code in CS4414B/Assignment_Week11-Clean\n",
    "        \n",
    "\n",
    "optimal_clusters = # analyze silhouette plot for the optimal number of clusters.\n",
    "    "
   ]
  },
  {
   "cell_type": "code",
   "execution_count": 1,
   "id": "forward-sector",
   "metadata": {},
   "outputs": [
    {
     "ename": "SyntaxError",
     "evalue": "invalid syntax (<ipython-input-1-545c4191689a>, line 10)",
     "output_type": "error",
     "traceback": [
      "\u001b[0;36m  File \u001b[0;32m\"<ipython-input-1-545c4191689a>\"\u001b[0;36m, line \u001b[0;32m10\u001b[0m\n\u001b[0;31m    clusterer = #the chosen clustering algorithm\u001b[0m\n\u001b[0m                ^\u001b[0m\n\u001b[0;31mSyntaxError\u001b[0m\u001b[0;31m:\u001b[0m invalid syntax\n"
     ]
    }
   ],
   "source": [
    "# perform PCA on data in order to retreive parameter-space dimensions\n",
    "pca = PCA(n_components = 2) # use 2 from Ameek's paper- could also experiment with others...\n",
    "X_pca = pca.fit_transform(X)\n",
    "\n",
    "#apply clustering algorithm with chosen number of clusters and plot results\n",
    "\n",
    "#initialize the figure\n",
    "fig, axs = plt.subplots(1,1)\n",
    "\n",
    "clusterer = #the chosen clustering algorithm\n",
    "cluster_labels = clusterer.fit_predict(X)\n",
    "\n",
    "#plot in pc space, color-code by cluster\n",
    "for i in range(optimal_clusters):\n",
    "    color = cm.nipy_spectral(float(i) / optimal_clusters)\n",
    "    plt.scatter(X_pca[cluster_labels==i, 0], X_pca[cluster_labels==i, 1], \n",
    "                label='Cluster %i' % (i+1))\n",
    "\n",
    "plt.xlabel('Component 1')\n",
    "plt.ylabel('Component 2')\n",
    "plt.title('PCA-transformed plot for %i clusters' % n_clusters)\n",
    "plt.legend()\n"
   ]
  },
  {
   "cell_type": "markdown",
   "id": "grave-network",
   "metadata": {},
   "source": [
    "# Algorithm 2 : \"Enhanced Clustering 1\""
   ]
  },
  {
   "cell_type": "markdown",
   "id": "understood-skill",
   "metadata": {},
   "source": [
    "Agglomerative clustering algorithm except the output is passed as input to KMeans clustering to serve as initial centroid positions.\n",
    "- determine the optimal number of clusters using either a silhouette score or dendrogram visualization\n",
    "- deploy agglomerative clustering with optimal number of clusters\n",
    "- deploy KMeans clustering with K=optimal_number_of_cluster and initialize positions at output from agglomerative clustering algorithm\n",
    "- sanity check- (re-?)calculate silhouette score for clusters and compare with agglomerative partitions\n",
    "- apply a PCA decomp to retrieve feature space\n",
    "- visualize results\n",
    "- analyze key features of average spectra in each cluster- groupby, plots of each averaged spectra, etc"
   ]
  },
  {
   "cell_type": "code",
   "execution_count": 3,
   "id": "stretch-lotus",
   "metadata": {},
   "outputs": [
    {
     "name": "stdout",
     "output_type": "stream",
     "text": [
      "(1000,)\n",
      "(1000, 2)\n"
     ]
    }
   ],
   "source": [
    "##just playing around with some toy data to experiment with how to consolidate\n",
    "#using the output labels from agglomerative clustering as input to kmeans\n",
    "X=pd.read_csv(\"RFM_data.csv\")\n",
    "clusterer= AgglomerativeClustering(n_clusters=5)\n",
    "cluster_labels= clusterer.fit_predict(X)\n",
    "pca=PCA(n_components=2)\n",
    "X_pca=pca.fit_transform(X)\n",
    "print(clusterer.labels_.shape)\n",
    "print(X_pca.shape)"
   ]
  },
  {
   "cell_type": "code",
   "execution_count": 18,
   "id": "extensive-cream",
   "metadata": {},
   "outputs": [
    {
     "name": "stdout",
     "output_type": "stream",
     "text": [
      "(5, 2)\n"
     ]
    }
   ],
   "source": [
    "#now pass the output cluster centroids from Agglomerative Clustering to the KMeans algorithm\n",
    "\n",
    "#start by computing the centroid positions\n",
    "from sklearn.neighbors import NearestCentroid\n",
    "import numpy as np\n",
    "\n",
    "clf=NearestCentroid()\n",
    "clf.fit(X_pca, cluster_labels) #do you pass the PCA transformed data set as input here or the original?\n",
    "centroids=clf.centroids_\n",
    "print(centroids.shape)"
   ]
  },
  {
   "cell_type": "code",
   "execution_count": 19,
   "id": "desperate-furniture",
   "metadata": {},
   "outputs": [
    {
     "name": "stderr",
     "output_type": "stream",
     "text": [
      "/usr/local/lib/python3.9/site-packages/sklearn/cluster/_kmeans.py:984: RuntimeWarning: Explicit initial center position passed: performing only one init in KMeans instead of n_init=10.\n",
      "  self._check_params(X)\n"
     ]
    }
   ],
   "source": [
    "#now pass the centroids as starting positions for the KMeans algo\n",
    "clusterer = KMeans(n_clusters=5, random_state=10, init=centroids)\n",
    "cluster_labels = clusterer.fit_predict(X_pca)"
   ]
  },
  {
   "cell_type": "code",
   "execution_count": 22,
   "id": "contemporary-medicaid",
   "metadata": {},
   "outputs": [
    {
     "name": "stdout",
     "output_type": "stream",
     "text": [
      "[[-2044.14187519  -313.55726279]\n",
      " [-2404.39108562  -662.96555671]\n",
      " [ -951.00273733  2134.94196015]\n",
      " [10924.88451545  -286.15685926]\n",
      " [11070.98851542   -29.68925063]]\n"
     ]
    }
   ],
   "source": [
    "print(centroids)"
   ]
  },
  {
   "cell_type": "code",
   "execution_count": 23,
   "id": "breathing-painting",
   "metadata": {},
   "outputs": [
    {
     "data": {
      "image/png": "[encoded data removed]",
      "text/plain": [
       "<Figure size 432x288 with 1 Axes>"
      ]
     },
     "metadata": {
      "needs_background": "light"
     },
     "output_type": "display_data"
    }
   ],
   "source": [
    "import matplotlib.cm as cm\n",
    "fig, axs=plt.subplots(1,1)\n",
    "colors = cm.nipy_spectral(cluster_labels.astype(float) / 5)\n",
    "axs.scatter(X_pca[:, 0], X_pca[:, 1], marker='.', s=30, lw=0, alpha=0.7,\n",
    "                c=colors, edgecolor='k')\n",
    "axs.set_xlabel(\"First Component Space\")\n",
    "axs.set_ylabel(\"Second Component Space\")\n",
    "axs.set_title(\"The visualization of the clustered data for \"+ str(5)+\" clusters.\")\n",
    "plt.plot(centroids[:,0], centroids[:,1], \"*\", color='red')\n",
    "plt.show()\n",
    "\n"
   ]
  },
  {
   "cell_type": "code",
   "execution_count": 24,
   "id": "internal-console",
   "metadata": {},
   "outputs": [
    {
     "name": "stdout",
     "output_type": "stream",
     "text": [
      "[[-2.         -1.33333333]\n",
      " [ 2.          1.33333333]]\n"
     ]
    }
   ],
   "source": [
    "#playing with centroid calculation\n",
    "from sklearn.neighbors import NearestCentroid\n",
    "import numpy as np\n",
    "X = np.array([[-1, -1], [-2, -1], [-3, -2], [1, 1], [2, 1], [3, 2]])\n",
    "y = np.array([1, 1, 1, 2, 2, 2])\n",
    "clf = NearestCentroid()\n",
    "centroids=clf.fit(X, y).centroids_\n",
    "\n",
    "# print(clf.centroids_)\n",
    "print(centroids)\n",
    "# [[-2.         -1.33333333]\n",
    "#  [ 2.          1.33333333]]\n",
    "\n"
   ]
  },
  {
   "cell_type": "code",
   "execution_count": 31,
   "id": "russian-peter",
   "metadata": {},
   "outputs": [
    {
     "name": "stdout",
     "output_type": "stream",
     "text": [
      "[-1.33333333  1.33333333]\n"
     ]
    },
    {
     "data": {
      "image/png": "[encoded data removed]",
      "text/plain": [
       "<Figure size 432x288 with 1 Axes>"
      ]
     },
     "metadata": {
      "needs_background": "light"
     },
     "output_type": "display_data"
    }
   ],
   "source": [
    "x_coords=X[:,0]\n",
    "y_coords=X[:,1]\n",
    "\n",
    "#plot the points themselves\n",
    "plt.plot(x_coords[0:3], y_coords[0:3], 'o',color='blue')\n",
    "plt.plot(x_coords[3:], y_coords[3:], 'o', color='red' )\n",
    "\n",
    "#plot the centroids\n",
    "x_cent=clf.centroids_[:,0]\n",
    "y_cent=clf.centroids_[:,1]\n",
    "\n",
    "print(y_cent)\n",
    "\n",
    "plt.plot(x_cent, y_cent, '*', color='green')\n",
    "plt.show()"
   ]
  },
  {
   "cell_type": "markdown",
   "id": "nutritional-shannon",
   "metadata": {},
   "source": [
    "# Algorithm 3: \"Enhanced Clustering 2\""
   ]
  },
  {
   "cell_type": "markdown",
   "id": "embedded-seattle",
   "metadata": {},
   "source": [
    "Agglomerative clustering based on input from a computed RF dissimilarity score (Euclidean analog)\n",
    "- determine the optimal number of clusters using either a silhouette score or dendrogram visualization\n",
    "- generate a synthetic \"dataset\" based on marginal distributions of real data, apply labels to both sets\n",
    "- train RFClassifier on both sets (real=1)\n",
    "- calculate similarity score->dissimilarity score\n",
    "- pass dissimilarity to input of MDS algo\n",
    "- deploy agglomerative clustering with MDS result as input (??have to look more into this specific step/implementation)\n",
    "- \u0010apply a PCA decomp to retrieve feature space\n",
    "- visualize results\n",
    "- analyze key features of average spectra in each cluster- groupby, plots of each averaged spectra, etc"
   ]
  },
  {
   "cell_type": "code",
   "execution_count": 2,
   "id": "correct-belize",
   "metadata": {},
   "outputs": [
    {
     "name": "stdout",
     "output_type": "stream",
     "text": [
      "[ 41.43939397  36.55662503  31.17130165  27.76410135  25.95031781\n",
      "  27.46250496  27.67302789  30.81909803  35.56006756  39.16886061\n",
      "  40.94213242  45.3963704   54.33698732  62.31862681  66.49218513\n",
      "  69.95662904  69.2652982   66.7019802   65.62507019  68.17744727\n",
      "  74.37109348  79.03396123  79.71228927  86.50138342 102.72218542\n",
      " 120.73702066 134.47951293 147.98973535 173.68511368 244.86217055\n",
      " 363.25173999 464.44825667 468.30941348 405.33512772 332.27372068\n",
      " 272.69636898 230.74772068 203.328595   182.18577327 162.14959163\n",
      " 149.37373661 139.3306507  132.61684236 134.61442948 143.07048769\n",
      " 149.37254418 149.0439378  150.50986565 149.18368394 150.92089109\n",
      " 151.66883995 154.41226341 158.76444831 170.57588477 175.6000314\n",
      " 165.54147371 159.46861307 162.16096103 169.59685537 181.2563501\n",
      " 189.94868717 202.80340504 217.14137282 230.15915067 246.1105603\n",
      " 267.96540314 292.58859612 315.23091994 343.10860126 377.37104836\n",
      " 413.23143641 444.8482381  476.43440915 516.65741839 556.34113788\n",
      " 561.68968446 590.85686474 617.44073181 605.19389194 590.19025924\n",
      " 541.64930888 518.13995034 501.46351917 462.93368397 410.10516534\n",
      " 360.82851363 316.72618834 295.06884952 291.23894899 294.19153224\n",
      " 298.73389842 308.11112098 334.20640178 368.64328525 384.37595628\n",
      " 353.98523963 295.26649017 240.19397506 196.41050644 166.32429211\n",
      " 146.71053699 133.73048446 125.46719373 120.69416614 118.68091469\n",
      " 115.66586759 112.166908   111.32512587 108.7093234  111.03932853\n",
      " 123.04486625 152.45184833 140.08475076 114.89025679 105.92795606\n",
      " 105.12357788 104.85497638 108.11189342 106.8440728  104.19956643\n",
      " 103.6379503  103.73562388 104.78470472 106.92175441 110.81467901\n",
      " 118.07912587 129.37230125 139.55455736 147.65484545 157.89315634\n",
      " 170.94748569 191.60658283 231.70898361 271.56497238 298.9114046\n",
      " 398.67015703 576.30542771 631.32738316 531.20191134 413.63061697\n",
      " 331.42731115 283.47928964 255.67710194 236.36220677 228.10554927\n",
      " 227.32328392 230.38281407 238.42016991 246.62847055 247.88776666\n",
      " 244.2430159  239.64014632 245.38179667 284.20115873 289.34925338\n",
      " 272.91104634 281.46400779 298.11396223 316.30477407 337.86882819\n",
      " 356.27323251 360.9463183  333.52209519 283.04775628 244.10446765\n",
      " 224.70767017 217.83318049 214.5776142  217.59273719 217.17845561\n",
      " 212.49062307 213.5716951  219.29608149 225.71969254 227.83645376\n",
      " 223.48850506 215.5697954  207.97059911 203.79165778 202.60307425\n",
      " 206.50452771 210.51297095 210.96054961 214.29775496 218.50918031\n",
      " 219.85751645 214.22854195 205.57499527 200.39363772 198.2875383\n",
      " 196.34811302 189.86912713 178.30601623 171.52741191]\n",
      "[ 5.18104078e-16 -2.93882565e-16 -1.07877880e-16  1.73547935e-16\n",
      "  2.65824641e-16 -3.16014462e-16  4.55941264e-17  9.39698573e-17\n",
      " -3.53868472e-16 -2.75741666e-17  1.77055175e-16  3.34518179e-16\n",
      "  3.79507609e-16  6.00100942e-16  1.80683355e-16 -6.71938902e-16\n",
      " -5.00688815e-16 -5.02140087e-16  3.33792543e-16 -4.62955745e-16\n",
      "  2.98720138e-16  5.67205445e-16  3.70799978e-16  8.18033610e-16\n",
      "  3.14442251e-17 -1.72701359e-16  7.53693888e-16  1.59349658e-15\n",
      " -2.55278732e-15 -2.66550277e-16 -1.29888838e-15  9.23976461e-16\n",
      " -2.43039672e-15  1.57559756e-15 -2.39459868e-15 -1.01298781e-15\n",
      " -2.11208441e-15  8.63023040e-16 -1.37870833e-16  8.13679794e-16\n",
      " -6.15823055e-16  5.47129517e-16 -8.79954545e-16  1.44159678e-16\n",
      " -3.43951447e-16 -1.41837643e-15 -4.46507996e-16  5.68414838e-16\n",
      "  1.06571735e-15  4.65858289e-16 -1.14069974e-15 -2.58810160e-16\n",
      " -6.43397221e-17 -4.30544005e-16 -1.59156155e-16  7.66755335e-16\n",
      "  1.11844690e-15  2.98478260e-16 -1.21423085e-16 -8.66893098e-16\n",
      " -1.92051652e-16  1.05604221e-15  1.15134240e-16  2.02355682e-15\n",
      " -3.81684517e-16 -1.05652596e-15 -5.80508771e-18  1.82376506e-16\n",
      " -5.06010145e-16 -5.17620321e-17  2.61228947e-17  1.74394510e-15\n",
      " -1.16440384e-15  1.52722183e-15  1.52238425e-15  1.07539250e-15\n",
      "  1.20020188e-15 -1.46578465e-16  8.82373332e-16 -1.54802339e-17\n",
      " -3.10330314e-15 -1.13295962e-15  9.80576066e-16 -3.19279824e-16\n",
      "  5.01656330e-16  1.85811182e-15 -1.41015256e-15  2.54940102e-16\n",
      " -7.07736943e-16 -1.60075294e-15  8.46575291e-17  7.71592908e-16\n",
      "  3.70558099e-16 -5.12782748e-17 -4.95367485e-16 -2.15513881e-15\n",
      "  1.44401557e-15  7.91910715e-16 -8.77535759e-16  3.70074342e-16\n",
      "  1.35452047e-16 -1.13199210e-16 -4.19417587e-16 -1.26550912e-15\n",
      "  5.21974137e-16 -9.99926358e-16 -1.36322810e-15  1.07974631e-15\n",
      "  1.31243358e-15 -3.54110350e-16 -1.04007821e-16 -7.06285671e-17\n",
      " -8.33030086e-16  2.64615248e-16  1.26163906e-15  6.32754560e-16\n",
      "  2.01968677e-15 -3.47337748e-16 -7.35311110e-17 -7.24426571e-16\n",
      "  5.08187053e-16 -8.16340459e-16 -3.24843033e-16  1.02096980e-15\n",
      " -2.91221900e-16  1.87939715e-16  5.12057112e-16 -2.03903706e-16\n",
      " -5.74219926e-16 -1.32549503e-16 -2.71387850e-16 -8.73665700e-16\n",
      " -2.15755760e-16 -1.84940419e-15 -1.63509971e-16 -1.08845395e-15\n",
      " -6.53072367e-17  6.10017967e-16  5.06977660e-16  1.79135332e-15\n",
      " -5.46645759e-17  5.24876680e-16 -1.89149108e-16 -5.24392923e-16\n",
      " -2.27607814e-16  1.84069656e-16 -2.69210943e-16 -4.85208581e-16\n",
      "  3.76363187e-16  4.46024239e-16 -2.12369459e-16 -3.94504086e-16\n",
      " -2.85900570e-16 -1.80199598e-16  6.96610525e-17  2.12369459e-16\n",
      "  2.32445387e-16  9.55420686e-16  2.77434817e-16 -1.10901363e-15\n",
      "  7.13542031e-16 -3.85312697e-16  6.82581563e-16 -2.54698223e-16\n",
      " -5.17378442e-16  4.24617978e-16  3.35606633e-16 -1.26744415e-16\n",
      " -4.77952221e-16  2.55423859e-16 -1.96405468e-16 -2.19142061e-16\n",
      " -2.52884133e-16  3.21698611e-16  6.94191739e-17  1.77055175e-16\n",
      " -1.25897840e-16  3.39839510e-17 -6.72422660e-17  9.19138887e-17\n",
      " -2.57358888e-16 -6.53072367e-17 -1.59277094e-16  1.60849305e-16\n",
      "  4.43847331e-17  2.92915051e-16 -6.39769041e-17  2.56270435e-16\n",
      " -3.99099780e-18 -4.31511520e-16 -1.40168680e-16 -1.59760851e-16\n",
      " -6.02640668e-16  3.58464166e-16]\n"
     ]
    }
   ],
   "source": [
    "##start by sampling from the marginal distributions of each variable and creating the synthetic distributions\n",
    "\n",
    "#each wavelength is an \"independent\"(?) feature and we operate under the assumption that each feature is normally distributed\n",
    "#extract the mean and std from each wavelength feature\n",
    "from spec_build import *\n",
    "from pre_processing import *\n",
    "\n",
    "#load in and reshape all wavelength, extinction, spectral maps\n",
    "spectra, wave= load_spec_wavelength(\"NGC2023_SPECTRAL_MAP_SOUTH.fits\")\n",
    "\n",
    "#load in and reshape continuum and corresponding wavelentgh arrays\n",
    "cont, wave_cont=load_continuum(\"NGC2023_CONTINUUM_MAP_SOUTH.fits\")\n",
    "\n",
    "#load in and reshape the extinction maps and corresponding wavelength array\n",
    "ext, wave_ext=load_extinction(\"NGC2023_EXTINCTION_MAPS_SOUTH.fits\")\n",
    "\n",
    "#extinction correct the spectra\n",
    "ext_corr_spec=extinction_correct(ext, spectra)\n",
    "\n",
    "#pre-processing\n",
    "\n",
    "#transform the map(s) from 3 to 2-dimensional array(s and consolidate)\n",
    "df=df_create(ext_corr_spec)\n",
    "print(df.mean(axis=0))\n",
    "\n",
    "#apply z-standardization to the spectra\n",
    "df=standardize(df)\n",
    "print(df.mean(axis=0))"
   ]
  },
  {
   "cell_type": "code",
   "execution_count": 3,
   "id": "waiting-jerusalem",
   "metadata": {},
   "outputs": [],
   "source": [
    "#create an array to store the mean and std for each wavelength\n",
    "# stats=np.zeros((2,df.shape[1])) #2 rows, as many columns as wavelength values\n",
    "\n",
    "#calculate the stats on each wavelength\n",
    "means=df.mean(axis=0) #the means\n",
    "stds=df.std(axis=0) #the standard deviations\n"
   ]
  },
  {
   "cell_type": "code",
   "execution_count": 4,
   "id": "committed-portsmouth",
   "metadata": {},
   "outputs": [
    {
     "name": "stdout",
     "output_type": "stream",
     "text": [
      "(459, 194)\n"
     ]
    }
   ],
   "source": [
    "#now create the synthetic dataset the same shape as df\n",
    "df_synthetic=np.zeros((df.shape))#an empty array to hold the synthetic data\n",
    "sample_size=df.shape[0]\n",
    "for i in range(df.shape[1]): #iterate for each wavelength value\n",
    "    #create the synthetic sample and fill in the empty array appropriately\n",
    "    df_synthetic[:,i]=np.random.normal(means[i], stds[i], sample_size)\n",
    "print(df_synthetic.shape)"
   ]
  },
  {
   "cell_type": "code",
   "execution_count": 5,
   "id": "unavailable-individual",
   "metadata": {},
   "outputs": [
    {
     "data": {
      "image/png": "[encoded data removed]",
      "text/plain": [
       "<Figure size 432x432 with 3 Axes>"
      ]
     },
     "metadata": {
      "needs_background": "light"
     },
     "output_type": "display_data"
    },
    {
     "data": {
      "image/png": "[encoded data removed]",
      "text/plain": [
       "<Figure size 432x432 with 3 Axes>"
      ]
     },
     "metadata": {
      "needs_background": "light"
     },
     "output_type": "display_data"
    }
   ],
   "source": [
    "#now lets plot the flux values for two wavelengths which are known to be correlated in both\n",
    "#the synthetic and real datasets to test the marginal distributions/correlation\n",
    "import seaborn as sns\n",
    "import matplotlib.pyplot as plt\n",
    "\n",
    "#i choose to plot the 6.2 and 7.7 micrometer fluxes\n",
    "#find out the indices of these features\n",
    "idx_66=np.where(wave==6.606173) #copy/pasted these values by printing and selecting by eye\n",
    "# print(wave[idx_66]) \n",
    "\n",
    "idx_77=np.where(wave==7.719988)\n",
    "# print(wave[idx_77])\n",
    "\n",
    "feature_66_real=df[:,idx_66]\n",
    "feature_77_real=df[:,idx_77]\n",
    "\n",
    "#plot the real features\n",
    "axis=sns.jointplot(x=feature_66_real[:,0,0], y=feature_77_real[:,0,0], kind=\"reg\")\n",
    "axis.set_axis_labels('6.6 microm fluxes ', '7.7microm fluxes ')\n",
    "axis.ax_marg_x.set_xlim(-10,20) #adjust the axes to make sure that the scales are comparable\n",
    "axis.ax_marg_y.set_ylim(-5, 21)\n",
    "plt.title(\"REAL\")\n",
    "plt.show()\n",
    "\n",
    "\n",
    "#now plot the \"synthetic\" features- they have the same index as in the original array!\n",
    "feature_66_syn=df_synthetic[:,idx_66]\n",
    "feature_77_syn=df_synthetic[:,idx_77]\n",
    "\n",
    "axis=sns.jointplot(x=feature_66_syn[:,0,0], y=feature_77_syn[:,0,0], kind='reg')\n",
    "axis.set_axis_labels('6.6 microm fluxes ', '7.7microm fluxes ')\n",
    "axis.ax_marg_x.set_xlim(-10,20) #adjust the axes to make sure that the scales are comparable\n",
    "axis.ax_marg_y.set_ylim(-5, 21)\n",
    "plt.title(\"SYNTHETIC\")\n",
    "plt.show()\n"
   ]
  },
  {
   "cell_type": "code",
   "execution_count": 6,
   "id": "municipal-modern",
   "metadata": {},
   "outputs": [
    {
     "name": "stdout",
     "output_type": "stream",
     "text": [
      "[[6.52903375]] [[72.10073612]]\n"
     ]
    }
   ],
   "source": [
    "##SOFIA- looks like the original distribution is not quite normal...\n",
    "#going to check skew/kurtosis just out of curiosity\n",
    "\n",
    "from scipy.stats import skew, kurtosis\n",
    "skew_66_real=skew(feature_66_real)\n",
    "kurt_66_real=kurtosis(feature_66_real)\n",
    "\n",
    "print(skew_66_real, kurt_66_real)"
   ]
  },
  {
   "cell_type": "code",
   "execution_count": 7,
   "id": "durable-attempt",
   "metadata": {},
   "outputs": [],
   "source": [
    "##SOFIA-I think the move for now is to try out normalization (instead of standardization w\n",
    "#StandardScaler) and then re-do the whole sampling business above and see how that works..\n",
    "#I think the focus right now is getting something written for the code!..."
   ]
  },
  {
   "cell_type": "code",
   "execution_count": 8,
   "id": "super-slide",
   "metadata": {},
   "outputs": [
    {
     "name": "stdout",
     "output_type": "stream",
     "text": [
      "(459, 195)\n"
     ]
    }
   ],
   "source": [
    "#now to train a Random Forest Classifier on the real and synthetic datasets (real=1)\n",
    "from sklearn.ensemble import RandomForestClassifier\n",
    "\n",
    "\n",
    "#NOTE TO SOFIA- going to have to tune the number of estimators!\n",
    "\n",
    "#create the training and testing datasets\n",
    "#start by adding a row to the real/synthetic arrays that has the labels\n",
    "labels_real=np.ones((df[:,0].shape)) #create the labels as individual columns\n",
    "labels_syn=np.zeros((df[:,0].shape))\n",
    "df=np.c_[df,labels_real] #adding the labels to their respective datasets as columns\n",
    "df_synthetic=np.c_[df_synthetic, labels_syn]\n",
    "print(df_synthetic.shape)\n"
   ]
  },
  {
   "cell_type": "code",
   "execution_count": 9,
   "id": "revised-fellowship",
   "metadata": {},
   "outputs": [
    {
     "name": "stdout",
     "output_type": "stream",
     "text": [
      "(918, 195)\n",
      "(642, 194) (642,) (276, 194) (276,)\n"
     ]
    }
   ],
   "source": [
    "#make sure to re-run the kernel after running the above cell multiple times as the arrays could have been edited multiple times!!\n",
    "#combine the two datasets to one large one \n",
    "df_whole=np.vstack((df, df_synthetic))\n",
    "print(df_whole.shape)\n",
    "\n",
    "X=df_whole[:,0:-1]\n",
    "y=df_whole[:,-1]\n",
    "\n",
    "# print(X.shape)\n",
    "# print(y.shape)\n",
    "# print(y)\n",
    "\n",
    "#now do a 70, 30 train/test split with shuffle=True (since labels are ordered in the design matrix)\n",
    "from sklearn.model_selection import train_test_split\n",
    "X_train, X_test, y_train, y_test=train_test_split(X, y, test_size=0.3, random_state=0, shuffle=True)\n",
    "print(X_train.shape, y_train.shape, X_test.shape, y_test.shape) #check the arrays each have the right proportions"
   ]
  },
  {
   "cell_type": "code",
   "execution_count": 10,
   "id": "norman-orlando",
   "metadata": {},
   "outputs": [],
   "source": [
    "#now initialize the classifier, fit and predict!\n",
    "model=RandomForestClassifier()#SOFIA- come back and tune parameters afterwards!\n",
    "model.fit(X_train, y_train) #train\n",
    "y_pred=model.predict(X_test) #test\n"
   ]
  },
  {
   "cell_type": "code",
   "execution_count": 11,
   "id": "intimate-superior",
   "metadata": {},
   "outputs": [
    {
     "name": "stdout",
     "output_type": "stream",
     "text": [
      "tp: 137 tn: 132 fp: 0 fn: 7\n",
      "Accuracy: 0.975 Recall: 0.951 Precision: 1.0 Sensitivity: 0.951 Specificity: 1.0\n"
     ]
    }
   ],
   "source": [
    "#now just some rough code to see how the model did\n",
    "#define a function to compute some statistics on the regression performed\n",
    "def compute_performance(yhat, y, classes):\n",
    "    # First, get tp, tn, fp, fn\n",
    "    tp = sum(np.logical_and(yhat == classes[1], y == classes[1]))\n",
    "    tn = sum(np.logical_and(yhat == classes[0], y == classes[0]))\n",
    "    fp = sum(np.logical_and(yhat == classes[1], y == classes[0]))\n",
    "    fn = sum(np.logical_and(yhat == classes[0], y == classes[1]))\n",
    "\n",
    "    print(f\"tp: {tp} tn: {tn} fp: {fp} fn: {fn}\")\n",
    "    \n",
    "    # Accuracy\n",
    "    acc = (tp + tn) / (tp + tn + fp + fn)\n",
    "    \n",
    "    # Precision\n",
    "    # \"Of the ones I labeled +, how many are actually +?\"\n",
    "    precision = tp / (tp + fp)\n",
    "    \n",
    "    # Recall\n",
    "    # \"Of all the + in the data, how many do I correctly label?\"\n",
    "    recall = tp / (tp + fn)    \n",
    "    \n",
    "    # Sensitivity\n",
    "    # \"Of all the + in the data, how many do I correctly label?\"\n",
    "    sensitivity = recall\n",
    "    \n",
    "    # Specificity\n",
    "    # \"Of all the - in the data, how many do I correctly label?\"\n",
    "    specificity = tn / (fp + tn)\n",
    "    \n",
    "    # Print results\n",
    "    \n",
    "    print(\"Accuracy:\",round(acc,3),\"Recall:\",round(recall,3),\"Precision:\",round(precision,3),\n",
    "          \"Sensitivity:\",round(sensitivity,3),\"Specificity:\",round(specificity,3))\n",
    "\n",
    "## Put code here to compute criteria:\n",
    "compute_performance(y_pred,y_test, model.classes_)"
   ]
  },
  {
   "cell_type": "code",
   "execution_count": 12,
   "id": "different-metabolism",
   "metadata": {},
   "outputs": [],
   "source": [
    "#now computing the similarity/proximity matrix\n",
    "def similarity_matrix(model, X, normalize=True):\n",
    "    \n",
    "    terminals=model.apply(X)# apply the trees in the forest to X and return the indices of the leaves that each x in X end up in\n",
    "    #terminals is matrix with number of rows same as X and onr column for each tree\n",
    "    n_trees=terminals.shape[1]# the number of trees in the forest\n",
    "    \n",
    "    sim_matrix=np.zeros((terminals.shape[0], terminals.shape[0])) # create the empty matrix\n",
    "    \n",
    "    for i in range(0, n_trees): #iterate through each tree in the forest, fill in the matrix\n",
    "        a=terminals[:,i] #grab each of the \"similarity vectors\"\n",
    "        sim_matrix+=1*np.equal.outer(a,a) #add to the similarity matrix (ie element-wise addition of scores)\n",
    "        \n",
    "    if normalize: #is set to True (by default, yes)\n",
    "        sim_matrix=sim_matrix/n_trees #divide each element by the number of trees in the forest to normalize the scores to be from 0 to 1\n",
    "        \n",
    "    return sim_matrix #return the computed similarity matrix\n",
    "        "
   ]
  },
  {
   "cell_type": "code",
   "execution_count": 13,
   "id": "successful-lighter",
   "metadata": {},
   "outputs": [],
   "source": [
    "#lets test out the similarity matrix function...\n",
    "sim_m=similarity_matrix(model, X_train, normalize=True)"
   ]
  },
  {
   "cell_type": "code",
   "execution_count": 14,
   "id": "enclosed-novelty",
   "metadata": {},
   "outputs": [
    {
     "name": "stdout",
     "output_type": "stream",
     "text": [
      "[[1.   1.   1.   ... 0.01 0.   0.04]\n",
      " [1.   1.   1.   ... 0.01 0.   0.04]\n",
      " [1.   1.   1.   ... 0.01 0.   0.04]\n",
      " ...\n",
      " [0.01 0.01 0.01 ... 1.   0.29 0.32]\n",
      " [0.   0.   0.   ... 0.29 1.   0.23]\n",
      " [0.04 0.04 0.04 ... 0.32 0.23 1.  ]]\n"
     ]
    }
   ],
   "source": [
    "print(sim_m)"
   ]
  },
  {
   "cell_type": "code",
   "execution_count": 15,
   "id": "exclusive-pillow",
   "metadata": {},
   "outputs": [
    {
     "name": "stdout",
     "output_type": "stream",
     "text": [
      "(642, 642)\n",
      "(642, 194)\n"
     ]
    }
   ],
   "source": [
    "print(sim_m.shape)\n",
    "print(X_train.shape)"
   ]
  },
  {
   "cell_type": "code",
   "execution_count": 16,
   "id": "selected-flavor",
   "metadata": {},
   "outputs": [],
   "source": [
    "#define a function that computes the dissimilarity matrix of a given similarity matrix s\n",
    "from scipy.linalg import sqrtm\n",
    "def dissimilarity_matrix(s):\n",
    "    ##SOFIA- is it d= sqrt(1-s) or just d=1-s???\n",
    "    \n",
    "    #first compute the matrix that is 1-s (recall: s is a square matrix)\n",
    "    d=np.zeros((s.shape))\n",
    "    for i in range(s.shape[0]): #along the first axis\n",
    "        for j in range(s.shape[0]): #along the second axis\n",
    "            d[i,j]=1-s[i,j] # fill in the dissimilarity matrix-each element is 1 minus the element value in s\n",
    "            \n",
    "    #SOFIA- commenting this part out for now- only works for positive matrices, returning a matrix with imaginary elements\n",
    "    #now compute the square root to get the Euclidean distance?...\n",
    "    #d=sqrtm(s) \n",
    "    \n",
    "    #return the dissimilarity matrix\n",
    "    return d\n",
    "    \n",
    "    "
   ]
  },
  {
   "cell_type": "code",
   "execution_count": 17,
   "id": "constant-jesus",
   "metadata": {},
   "outputs": [
    {
     "name": "stdout",
     "output_type": "stream",
     "text": [
      "[[0.   0.   0.   ... 0.99 1.   0.96]\n",
      " [0.   0.   0.   ... 0.99 1.   0.96]\n",
      " [0.   0.   0.   ... 0.99 1.   0.96]\n",
      " ...\n",
      " [0.99 0.99 0.99 ... 0.   0.71 0.68]\n",
      " [1.   1.   1.   ... 0.71 0.   0.77]\n",
      " [0.96 0.96 0.96 ... 0.68 0.77 0.  ]]\n",
      "(642, 642)\n"
     ]
    }
   ],
   "source": [
    "#now test out the dissimilarity matrix function\n",
    "dis_matrix=dissimilarity_matrix(sim_m)\n",
    "print(dis_matrix)\n",
    "print(dis_matrix.shape)"
   ]
  },
  {
   "cell_type": "code",
   "execution_count": 18,
   "id": "jewish-waterproof",
   "metadata": {},
   "outputs": [
    {
     "name": "stdout",
     "output_type": "stream",
     "text": [
      "(642, 2)\n"
     ]
    }
   ],
   "source": [
    "#now start the MDS\n",
    "from sklearn.manifold import MDS\n",
    "mds=MDS(n_components=2, dissimilarity=\"precomputed\")\n",
    "embedding=mds.fit_transform(dis_matrix)\n",
    "print(embedding.shape)"
   ]
  },
  {
   "cell_type": "code",
   "execution_count": 19,
   "id": "banner-ballot",
   "metadata": {},
   "outputs": [
    {
     "data": {
      "image/png": "[encoded data removed]",
      "text/plain": [
       "<Figure size 432x288 with 1 Axes>"
      ]
     },
     "metadata": {
      "needs_background": "light"
     },
     "output_type": "display_data"
    }
   ],
   "source": [
    "#lets just plot the embeddings and see what the data looks like- not really sure what to look for...\n",
    "plt.scatter(embedding[:,0], embedding[:,1])\n",
    "plt.show()"
   ]
  },
  {
   "cell_type": "code",
   "execution_count": 33,
   "id": "favorite-filing",
   "metadata": {},
   "outputs": [],
   "source": [
    "#now passing the embeddings from the MDS to Agglomerative clustering\n",
    "optimal_n_clusters=2 #setting to 3 for now\n",
    "#SOFIA- remember to add in part of code in which the optimal number of clusters is determined\n",
    "#should determine the best number of clusters based on the MDS embeddings, since this is the data that will be passed to the clustering algo\n",
    "clusterer=AgglomerativeClustering(n_clusters=optimal_n_clusters)\n",
    "results= clusterer.fit_predict(embedding)"
   ]
  },
  {
   "cell_type": "code",
   "execution_count": 34,
   "id": "agricultural-flash",
   "metadata": {},
   "outputs": [
    {
     "name": "stderr",
     "output_type": "stream",
     "text": [
      "/usr/local/lib/python3.9/site-packages/seaborn/_decorators.py:36: FutureWarning: Pass the following variables as keyword args: x, y. From version 0.12, the only valid positional argument will be `data`, and passing other arguments without an explicit keyword will result in an error or misinterpretation.\n",
      "  warnings.warn(\n"
     ]
    },
    {
     "data": {
      "text/plain": [
       "<AxesSubplot:>"
      ]
     },
     "execution_count": 34,
     "metadata": {},
     "output_type": "execute_result"
    },
    {
     "data": {
      "image/png": "[encoded data removed]",
      "text/plain": [
       "<Figure size 432x288 with 1 Axes>"
      ]
     },
     "metadata": {
      "needs_background": "light"
     },
     "output_type": "display_data"
    }
   ],
   "source": [
    "#now plot the embeddings with color codes according to the cluster labels\n",
    "# import matplotlib.cm as cm\n",
    "# colors = cm.nipy_spectral(results.astype(float) / optimal_n_clusters)\n",
    "# plt.plot(embedding[:,0], embedding[:,1], c=results)\n",
    "# plt.show()\n",
    "\n",
    "sns.scatterplot(embedding[:,0], embedding[:,1], hue=results)\n",
    "# print(embedding[:,0].shape, embedding[:,1].shape, results.shape)"
   ]
  },
  {
   "cell_type": "code",
   "execution_count": 38,
   "id": "extended-disclaimer",
   "metadata": {},
   "outputs": [
    {
     "name": "stdout",
     "output_type": "stream",
     "text": [
      "(642, 2)\n"
     ]
    },
    {
     "name": "stderr",
     "output_type": "stream",
     "text": [
      "/usr/local/lib/python3.9/site-packages/seaborn/_decorators.py:36: FutureWarning: Pass the following variables as keyword args: x, y. From version 0.12, the only valid positional argument will be `data`, and passing other arguments without an explicit keyword will result in an error or misinterpretation.\n",
      "  warnings.warn(\n"
     ]
    },
    {
     "data": {
      "image/png": "[encoded data removed]",
      "text/plain": [
       "<Figure size 432x288 with 1 Axes>"
      ]
     },
     "metadata": {
      "needs_background": "light"
     },
     "output_type": "display_data"
    }
   ],
   "source": [
    "##just out of curiosity lets now just pass the similarity matrix from the RF business to the Agglomerative clustering algorithm and see what happens\n",
    "results2=clusterer.fit_predict(sim_m)\n",
    "#reduce the similarity matrix to 2D?\n",
    "pca=PCA(n_components=2)\n",
    "sim_PCA=pca.fit_transform(sim_m)\n",
    "print(sim_PCA.shape)\n",
    "\n",
    "#now plot, color-code by clusters\n",
    "sns.scatterplot(sim_PCA[:,0], sim_PCA[:,1], hue=results2)\n",
    "plt.show()"
   ]
  },
  {
   "cell_type": "code",
   "execution_count": 39,
   "id": "relevant-closer",
   "metadata": {},
   "outputs": [
    {
     "name": "stderr",
     "output_type": "stream",
     "text": [
      "/usr/local/lib/python3.9/site-packages/seaborn/_decorators.py:36: FutureWarning: Pass the following variables as keyword args: x, y. From version 0.12, the only valid positional argument will be `data`, and passing other arguments without an explicit keyword will result in an error or misinterpretation.\n",
      "  warnings.warn(\n"
     ]
    },
    {
     "data": {
      "image/png": "[encoded data removed]",
      "text/plain": [
       "<Figure size 432x288 with 1 Axes>"
      ]
     },
     "metadata": {
      "needs_background": "light"
     },
     "output_type": "display_data"
    }
   ],
   "source": [
    "#hmmm thats kind of weird actually, should I have done the PCA on the matrix before-hand?\n",
    "results2=clusterer.fit_predict(sim_PCA)\n",
    "sns.scatterplot(sim_PCA[:,0], sim_PCA[:,1], hue=results2)\n",
    "plt.show()"
   ]
  },
  {
   "cell_type": "code",
   "execution_count": null,
   "id": "ideal-simpson",
   "metadata": {},
   "outputs": [],
   "source": [
    "##hmmmmm you get the same thing....... first i cluster on the matrix, then decomp and plot w the labels\n",
    "#second I decomp and cluster on the decomp, then plot w the labels... I guess the clustering/PCA operations commute"
   ]
  },
  {
   "cell_type": "code",
   "execution_count": 44,
   "id": "fundamental-prince",
   "metadata": {},
   "outputs": [
    {
     "name": "stderr",
     "output_type": "stream",
     "text": [
      "/usr/local/lib/python3.9/site-packages/seaborn/_decorators.py:36: FutureWarning: Pass the following variables as keyword args: x, y. From version 0.12, the only valid positional argument will be `data`, and passing other arguments without an explicit keyword will result in an error or misinterpretation.\n",
      "  warnings.warn(\n"
     ]
    },
    {
     "data": {
      "image/png": "[encoded data removed]",
      "text/plain": [
       "<Figure size 432x288 with 1 Axes>"
      ]
     },
     "metadata": {
      "needs_background": "light"
     },
     "output_type": "display_data"
    }
   ],
   "source": [
    "##now lets try passing the distance matrix and see...\n",
    "clusterer_distance=AgglomerativeClustering(affinity=\"precomputed\", linkage='single')# can play with the best/most appropriate linkage after\n",
    "results3=clusterer_distance.fit_predict(dis_matrix)\n",
    "dis_PCA=pca.fit_transform(dis_matrix)\n",
    "sns.scatterplot(dis_PCA[:,0], dis_PCA[:,1], hue=results3)\n",
    "plt.show()"
   ]
  },
  {
   "cell_type": "code",
   "execution_count": null,
   "id": "reliable-diamond",
   "metadata": {},
   "outputs": [],
   "source": [
    "#I guess it makes sense that there would not be a difference in the PCA decomp of the similarity vs\n",
    "#dissimilarity matrices- they are inverses- the \"distances\" are preserved!"
   ]
  },
  {
   "cell_type": "code",
   "execution_count": 37,
   "id": "presidential-civilian",
   "metadata": {},
   "outputs": [
    {
     "name": "stdout",
     "output_type": "stream",
     "text": [
      "(459, 194)\n",
      "(459, 2)\n"
     ]
    }
   ],
   "source": [
    "#just out of curiosity going to play with using MDS on the entire data set and compare w the PCA results\n",
    "\n",
    "#load in and reshape all wavelength, extinction, spectral maps\n",
    "spectra, wave= load_spec_wavelength(\"NGC2023_SPECTRAL_MAP_SOUTH.fits\")\n",
    "\n",
    "#load in and reshape continuum and corresponding wavelentgh arrays\n",
    "cont, wave_cont=load_continuum(\"NGC2023_CONTINUUM_MAP_SOUTH.fits\")\n",
    "\n",
    "#load in and reshape the extinction maps and corresponding wavelength array\n",
    "ext, wave_ext=load_extinction(\"NGC2023_EXTINCTION_MAPS_SOUTH.fits\")\n",
    "\n",
    "#extinction correct the spectra\n",
    "ext_corr_spec=extinction_correct(ext, spectra)\n",
    "\n",
    "#pre-processing\n",
    "\n",
    "#transform the map(s) from 3 to 2-dimensional array(s and consolidate)\n",
    "df=df_create(ext_corr_spec)\n",
    "# print(df.mean(axis=0))\n",
    "\n",
    "#apply z-standardization to the spectra\n",
    "df=standardize(df)\n",
    "# print(df.mean(axis=0))\n",
    "\n",
    "print(df.shape)\n",
    "\n",
    "mds2=MDS()#the default dissimilarity setting is Euclidean anyways\n",
    "embedding_2=mds2.fit_transform(df)# passing the entire \"real\" data set (just standardized)\n",
    "print(embedding_2.shape)"
   ]
  },
  {
   "cell_type": "code",
   "execution_count": 39,
   "id": "extreme-somalia",
   "metadata": {},
   "outputs": [
    {
     "data": {
      "image/png": "[encoded data removed]",
      "text/plain": [
       "<Figure size 432x288 with 1 Axes>"
      ]
     },
     "metadata": {
      "needs_background": "light"
     },
     "output_type": "display_data"
    }
   ],
   "source": [
    "plt.scatter(embedding_2[:,0], embedding_2[:,1])\n",
    "plt.show()\n"
   ]
  },
  {
   "cell_type": "code",
   "execution_count": null,
   "id": "solar-negative",
   "metadata": {},
   "outputs": [],
   "source": [
    "#this is very interesting...not the same shape when you pass the dataset to the MDS algo\n",
    "#vs when you pass the computed dissimilarity matrix as input to the MDS algo... I wonder what \n",
    "#just usual PCA decomp looks like on the spectra and then compare with the MDS decomp...\n",
    "#compare both with clustering as well and color-code to see??...."
   ]
  },
  {
   "cell_type": "code",
   "execution_count": null,
   "id": "atomic-confidentiality",
   "metadata": {},
   "outputs": [],
   "source": []
  }
 ],
 "metadata": {
  "kernelspec": {
   "display_name": "Python 3",
   "language": "python",
   "name": "python3"
  },
  "language_info": {
   "codemirror_mode": {
    "name": "ipython",
    "version": 3
   },
   "file_extension": ".py",
   "mimetype": "text/x-python",
   "name": "python",
   "nbconvert_exporter": "python",
   "pygments_lexer": "ipython3",
   "version": "3.9.2"
  }
 },
 "nbformat": 4,
 "nbformat_minor": 5
}
