{
 "cells": [
  {
   "cell_type": "markdown",
   "id": "waiting-country",
   "metadata": {},
   "source": [
    "# Master's research code draft.\n",
    "## PAH clustering\n",
    "### Will be exploring agglomerative/heirarchical clustering on both Spitzer and JWST data; will also compare to results of similar works (ie Boersma 2014).\n",
    "\n",
    "### Sofia Pasquini\n",
    "\n",
    "#### Just a draft at the moment, main code developped in github.com/sofiapasquini/PAH-revolution"
   ]
  },
  {
   "cell_type": "code",
   "execution_count": 9,
   "id": "resident-baker",
   "metadata": {},
   "outputs": [],
   "source": [
    "#import some relevant packages\n",
    "from sklearn.cluster import AgglomerativeClustering, KMeans\n",
    "from sklearn.decomposition import PCA\n",
    "from sklearn.preprocessing import StandardScaler\n",
    "from sklearn.metrics import silhouette_samples, silhouette_score #(?)\n",
    "import matplotlib.pyplot as plt\n",
    "from astropy.io import fits\n",
    "import numpy as np\n",
    "from scipy import interpolate"
   ]
  },
  {
   "cell_type": "markdown",
   "id": "portuguese-christian",
   "metadata": {},
   "source": [
    "## Pre-processing\n",
    "### Load in the data and construct the spectra"
   ]
  },
  {
   "cell_type": "code",
   "execution_count": 10,
   "id": "likely-andorra",
   "metadata": {},
   "outputs": [],
   "source": [
    "#load in the data \n",
    "\n",
    "folder=\"/Volumes/LaCie/MASTERS/NGC2023_IRS_Boersma_2016/\"\n",
    "file_name= \"NGC2023_SPECTRAL_MAP_SOUTH.fits\" #just for now\n",
    "hdulist = fits.open(folder+file_name)"
   ]
  },
  {
   "cell_type": "markdown",
   "id": "trying-zoning",
   "metadata": {},
   "source": [
    "### Wavelength array"
   ]
  },
  {
   "cell_type": "code",
   "execution_count": 11,
   "id": "undefined-banks",
   "metadata": {},
   "outputs": [
    {
     "name": "stdout",
     "output_type": "stream",
     "text": [
      "<class 'numpy.ndarray'>\n",
      "(1, 194, 1)\n"
     ]
    }
   ],
   "source": [
    "#read the wavelength data and inspect type/shape\n",
    "wave=hdulist[1].data['wavelength']\n",
    "print(type(wave))\n",
    "print(wave.shape)"
   ]
  },
  {
   "cell_type": "code",
   "execution_count": 12,
   "id": "united-leather",
   "metadata": {},
   "outputs": [
    {
     "name": "stdout",
     "output_type": "stream",
     "text": [
      "<class 'numpy.ndarray'>\n",
      "(194,)\n"
     ]
    }
   ],
   "source": [
    "#reshape the wavelength array from 3 to 1 dimension\n",
    "wave=np.reshape(wave, -1)\n",
    "print(type(wave))\n",
    "print(wave.shape)"
   ]
  },
  {
   "cell_type": "code",
   "execution_count": 13,
   "id": "ultimate-interview",
   "metadata": {},
   "outputs": [
    {
     "name": "stdout",
     "output_type": "stream",
     "text": [
      "<class 'numpy.ndarray'>\n",
      "(194, 17, 27)\n"
     ]
    }
   ],
   "source": [
    "#now read in the data and check the type/shape\n",
    "spectra=hdulist[0].data\n",
    "print(type(spectra))\n",
    "print(spectra.shape)"
   ]
  },
  {
   "cell_type": "code",
   "execution_count": 14,
   "id": "invisible-verification",
   "metadata": {},
   "outputs": [
    {
     "name": "stdout",
     "output_type": "stream",
     "text": [
      "(27, 17, 194)\n",
      "27 17\n"
     ]
    }
   ],
   "source": [
    "#we want to rearrange so the dimensions are (x, y, lambda)\n",
    "spectra = np.moveaxis(np.swapaxes(spectra, 1, 2), 0, 2) \n",
    "print(spectra.shape)\n",
    "print(spectra.shape[0], spectra.shape[1])"
   ]
  },
  {
   "cell_type": "code",
   "execution_count": 12,
   "id": "minus-brisbane",
   "metadata": {},
   "outputs": [],
   "source": [
    "#make sure to close the file after we are done\n",
    "hdulist.close()"
   ]
  },
  {
   "cell_type": "markdown",
   "id": "little-netscape",
   "metadata": {},
   "source": [
    "### Continua"
   ]
  },
  {
   "cell_type": "code",
   "execution_count": 13,
   "id": "engaging-cooperative",
   "metadata": {},
   "outputs": [],
   "source": [
    "#now we wish to read in the continuum data\n",
    "file_name='NGC2023_CONTINUUM_MAP_SOUTH.fits'\n",
    "hdulist=fits.open(folder+file_name)"
   ]
  },
  {
   "cell_type": "code",
   "execution_count": 21,
   "id": "acceptable-performer",
   "metadata": {},
   "outputs": [
    {
     "name": "stdout",
     "output_type": "stream",
     "text": [
      "(89046,)\n",
      "<class 'numpy.ndarray'>\n"
     ]
    }
   ],
   "source": [
    "#first the wavelengths\n",
    "wave_cont=hdulist[1].data['wavelength']\n",
    "print(wave_cont.shape)\n",
    "print(type(wave_cont))"
   ]
  },
  {
   "cell_type": "code",
   "execution_count": 22,
   "id": "geological-complement",
   "metadata": {},
   "outputs": [],
   "source": [
    "#we now have the wavelength array repeated for each pixel\n",
    "#we want to reshape such that the wavelength array has the same format as the spectral cube\n",
    "wave_cont=np.reshape(wave_cont, [27, 17, 194], order='F') #\"F\" means the first index varies the fastest and the last one the slowest."
   ]
  },
  {
   "cell_type": "code",
   "execution_count": 23,
   "id": "floppy-temperature",
   "metadata": {},
   "outputs": [
    {
     "name": "stdout",
     "output_type": "stream",
     "text": [
      "(27, 17, 194)\n"
     ]
    },
    {
     "data": {
      "image/png": "[encoded data removed]",
      "text/plain": [
       "<Figure size 432x288 with 1 Axes>"
      ]
     },
     "metadata": {
      "needs_background": "light"
     },
     "output_type": "display_data"
    },
    {
     "data": {
      "text/plain": [
       "<Figure size 432x288 with 0 Axes>"
      ]
     },
     "metadata": {},
     "output_type": "display_data"
    }
   ],
   "source": [
    "# make integer array and test result!\n",
    "test = np.arange(194)\n",
    "print(wave_cont.shape)\n",
    "plt.plot(test, wave_cont[10,10,:], color='b')\n",
    "plt.show()\n",
    "plt.clf()"
   ]
  },
  {
   "cell_type": "code",
   "execution_count": 25,
   "id": "optimum-recording",
   "metadata": {},
   "outputs": [
    {
     "name": "stdout",
     "output_type": "stream",
     "text": [
      "(194, 17, 27)\n",
      "<class 'numpy.ndarray'>\n"
     ]
    }
   ],
   "source": [
    "#now get the continuum data\n",
    "cont=hdulist[0].data\n",
    "print(cont.shape)\n",
    "print(type(cont))\n"
   ]
  },
  {
   "cell_type": "code",
   "execution_count": 26,
   "id": "changing-outside",
   "metadata": {},
   "outputs": [
    {
     "name": "stdout",
     "output_type": "stream",
     "text": [
      "(27, 17, 194)\n",
      "<class 'numpy.ndarray'>\n"
     ]
    }
   ],
   "source": [
    "#reshape as we did before\n",
    "cont = np.moveaxis(np.swapaxes(cont, 1, 2), 0, 2)\n",
    "print(cont.shape)\n",
    "print(type(cont))"
   ]
  },
  {
   "cell_type": "code",
   "execution_count": 27,
   "id": "sharp-vault",
   "metadata": {},
   "outputs": [],
   "source": [
    "#close that file\n",
    "hdulist.close()"
   ]
  },
  {
   "cell_type": "markdown",
   "id": "trained-theta",
   "metadata": {},
   "source": [
    "### Extinction maps"
   ]
  },
  {
   "cell_type": "code",
   "execution_count": 28,
   "id": "working-export",
   "metadata": {},
   "outputs": [],
   "source": [
    "file_name= 'NGC2023_EXTINCTION_MAPS_SOUTH.fits'\n",
    "hdulist=fits.open(folder+file_name)"
   ]
  },
  {
   "cell_type": "code",
   "execution_count": 29,
   "id": "prompt-complexity",
   "metadata": {},
   "outputs": [
    {
     "name": "stdout",
     "output_type": "stream",
     "text": [
      "(194,)\n",
      "<class 'numpy.ndarray'>\n"
     ]
    }
   ],
   "source": [
    "#read in the wavelength array\n",
    "wave_ext= hdulist[2].data['wavelength']\n",
    "print(wave_ext.shape)\n",
    "print(type(wave_ext))"
   ]
  },
  {
   "cell_type": "code",
   "execution_count": 30,
   "id": "dangerous-trademark",
   "metadata": {},
   "outputs": [
    {
     "name": "stdout",
     "output_type": "stream",
     "text": [
      "(194, 17, 27)\n"
     ]
    }
   ],
   "source": [
    "#read in the extinction data\n",
    "ext= hdulist[1].data\n",
    "print(ext.shape)"
   ]
  },
  {
   "cell_type": "code",
   "execution_count": 31,
   "id": "primary-today",
   "metadata": {},
   "outputs": [
    {
     "name": "stdout",
     "output_type": "stream",
     "text": [
      "(27, 17, 194)\n"
     ]
    }
   ],
   "source": [
    "#reshape as we did before\n",
    "ext = np.moveaxis(np.swapaxes(ext, 1, 2), 0, 2)\n",
    "print(ext.shape)"
   ]
  },
  {
   "cell_type": "code",
   "execution_count": 32,
   "id": "powerful-character",
   "metadata": {},
   "outputs": [
    {
     "data": {
      "image/png": "[encoded data removed]",
      "text/plain": [
       "<Figure size 432x288 with 1 Axes>"
      ]
     },
     "metadata": {
      "needs_background": "light"
     },
     "output_type": "display_data"
    }
   ],
   "source": [
    "# check if all wavelength arrays are the same ---> Yes!\n",
    "plt.plot(wave, wave-wave_ext, color='r')\n",
    "plt.plot(wave, wave-wave_cont[15, 15, :], color='g')\n",
    "plt.plot(wave, wave_cont[4,4,:]-wave_cont[15, 15, :], color='b')\n",
    "plt.show()\n"
   ]
  },
  {
   "cell_type": "code",
   "execution_count": 34,
   "id": "running-excitement",
   "metadata": {},
   "outputs": [],
   "source": [
    "# #lets plot the spectrum with the corresponding continuum in a pdf\n",
    "\n",
    "# from matplotlib.backends.backend_pdf import PdfPages\n",
    "\n",
    "# with PdfPages('plot_spectra_cont_C.pdf') as pdf:\n",
    "# \tfor i in np.arange(len(spectra[:, 0, 0])):\n",
    "# \t\tfor j in np.arange(len(spectra[0, :, 0])):\n",
    "# \t\t\tplt.figure(figsize=(3, 3))\n",
    "# \t\t\tplt.plot(wave, spectra[i, j, :], color='b')\n",
    "# \t\t\tplt.plot(wave, cont[i, j, :], color='r')\n",
    "# \t\t\tplt.plot(wave, ext[i,j,:]*100, color='g')\n",
    "# \t\t\tplt.title('('+str(i)+','+str(j)+')')\n",
    "# \t\t\tpdf.savefig()  # saves the current figure into a pdf page\n",
    "# \t\t\tplt.close()"
   ]
  },
  {
   "cell_type": "markdown",
   "id": "varied-development",
   "metadata": {},
   "source": [
    "### Extinction Correction + Continuum Fit"
   ]
  },
  {
   "cell_type": "code",
   "execution_count": 37,
   "id": "amino-tattoo",
   "metadata": {},
   "outputs": [],
   "source": [
    "#extinction correct the spectra\n",
    "extcorr_spectra=spectra/ext"
   ]
  },
  {
   "cell_type": "code",
   "execution_count": 38,
   "id": "dependent-function",
   "metadata": {},
   "outputs": [],
   "source": [
    "#fit a spline continuum\n",
    "\n",
    "flux = extcorr_spectra[18, 8, :]\n",
    "\n",
    "#set the anchor points\n",
    "anchor_ind_init = np.array([4, 10, 42, 57, 107, 115, 121, 145, 166, 178]) #### [5.36, 5.5, 6.54, 7.00, 9.39, 9.89, 10.26, 11.75, 13.06, 13.80]\n",
    "\n",
    "# find closest wavelengths in wave array\n",
    "\n",
    "xanchor = wave[anchor_ind_init]    #### <class 'numpy.ndarray'> (also array if you use a list for anchor_ind_init)\n",
    "yanchor = flux[anchor_ind_init]\n"
   ]
  },
  {
   "cell_type": "code",
   "execution_count": 39,
   "id": "stable-yeast",
   "metadata": {},
   "outputs": [],
   "source": [
    "#now determine the spline fit\n",
    "def splinefit(xpoints,ypoints):\n",
    "  x = np.array(xpoints)\n",
    "  y = np.array(ypoints)\n",
    "\n",
    "  # spline interpolation\n",
    "  tck = interpolate.splrep(x, y, s=0)\n",
    "\n",
    "  # new wavelength points to evaluate spline\n",
    "  xnew = np.arange(min(xpoints),max(xpoints),0.001)\n",
    "  # evaluate spline at new points\n",
    "  ynew = interpolate.splev(xnew, tck, der=0)\n",
    "\n",
    "  # plot the spline\n",
    "  # plt.plot(xnew,ynew,label='continuum')\n",
    "  # plt.plot(xpoints,ypoints,'ro')\n",
    "  # plt.show()\n",
    "\n",
    "  # return\n",
    "  return tck\n",
    "\n"
   ]
  },
  {
   "cell_type": "code",
   "execution_count": 42,
   "id": "computational-month",
   "metadata": {},
   "outputs": [
    {
     "name": "stdout",
     "output_type": "stream",
     "text": [
      "<class 'tuple'>\n"
     ]
    }
   ],
   "source": [
    "spline = splinefit(xanchor, yanchor)\n",
    "print(type(spline))"
   ]
  },
  {
   "cell_type": "code",
   "execution_count": 43,
   "id": "registered-impossible",
   "metadata": {},
   "outputs": [
    {
     "data": {
      "image/png": "[encoded data removed]",
      "text/plain": [
       "<Figure size 432x288 with 1 Axes>"
      ]
     },
     "metadata": {
      "needs_background": "light"
     },
     "output_type": "display_data"
    }
   ],
   "source": [
    "plt.plot(wave, flux, color='b')\n",
    "plt.plot(xanchor, yanchor, 'ro')\n",
    "#plt.plot(xanchor, spline, 'g+')\n",
    "plt.show()\n"
   ]
  },
  {
   "cell_type": "code",
   "execution_count": 47,
   "id": "yellow-information",
   "metadata": {},
   "outputs": [
    {
     "name": "stdout",
     "output_type": "stream",
     "text": [
      "(27, 17, 194)\n"
     ]
    },
    {
     "data": {
      "image/png": "[encoded data removed]",
      "text/plain": [
       "<Figure size 432x288 with 1 Axes>"
      ]
     },
     "metadata": {
      "needs_background": "light"
     },
     "output_type": "display_data"
    }
   ],
   "source": [
    "i = 18\n",
    "j = 8\n",
    "\n",
    "print(((spectra-cont)/ext).shape)\n",
    "t=(spectra-cont)\n",
    "tt=(spectra-cont)/ext\n",
    "plt.plot(wave, spectra[i, j, :], color='b', label='raw spec')\n",
    "plt.plot(wave, cont[i, j, :], color='r', label='continuum')\n",
    "plt.plot(wave, ext[i,j,:]*100, color='g', label='extinction correction')\n",
    "plt.plot(wave, t[i,j,:], color='y', label='emission only')\n",
    "plt.plot(wave, tt[i,j,:], color='orange', label='ext-corrected emission only')\n",
    "plt.legend()\n",
    "plt.show()\n"
   ]
  },
  {
   "cell_type": "code",
   "execution_count": 48,
   "id": "detailed-reporter",
   "metadata": {},
   "outputs": [],
   "source": [
    "#in the above plot it just happens that the emission only spectrum and the emission only spectrum which has been extinction corrected coincide.\n"
   ]
  },
  {
   "cell_type": "code",
   "execution_count": 23,
   "id": "extraordinary-stupid",
   "metadata": {},
   "outputs": [
    {
     "name": "stdout",
     "output_type": "stream",
     "text": [
      "[[0. 0. 0. 0. 0.]\n",
      " [0. 0. 0. 0. 0.]\n",
      " [0. 0. 0. 0. 0.]\n",
      " [0. 0. 0. 0. 0.]\n",
      " [0. 0. 0. 0. 0.]\n",
      " [0. 0. 0. 0. 0.]\n",
      " [0. 0. 0. 0. 0.]\n",
      " [0. 0. 0. 0. 0.]\n",
      " [0. 0. 0. 0. 0.]\n",
      " [0. 0. 0. 0. 0.]]\n"
     ]
    }
   ],
   "source": [
    "df=np.zeros(shape=(10,5))\n",
    "print(df)"
   ]
  },
  {
   "cell_type": "code",
   "execution_count": 25,
   "id": "prospective-object",
   "metadata": {},
   "outputs": [
    {
     "name": "stdout",
     "output_type": "stream",
     "text": [
      "[[0. 0. 0. 0. 0.]\n",
      " [1. 2. 3. 4. 5.]\n",
      " [0. 0. 0. 0. 0.]\n",
      " [0. 0. 0. 0. 0.]\n",
      " [0. 0. 0. 0. 0.]\n",
      " [0. 0. 0. 0. 0.]\n",
      " [0. 0. 0. 0. 0.]\n",
      " [0. 0. 0. 0. 0.]\n",
      " [0. 0. 0. 0. 0.]\n",
      " [0. 0. 0. 0. 0.]]\n"
     ]
    }
   ],
   "source": [
    "df[1]=[1,2,3,4,5]\n",
    "print(df)"
   ]
  },
  {
   "cell_type": "code",
   "execution_count": 26,
   "id": "handed-vinyl",
   "metadata": {},
   "outputs": [
    {
     "name": "stdout",
     "output_type": "stream",
     "text": [
      "[[0. 0. 0. 0. 0.]\n",
      " [1. 2. 3. 4. 5.]\n",
      " [1. 3. 7. 9. 8.]\n",
      " [0. 0. 0. 0. 0.]\n",
      " [0. 0. 0. 0. 0.]\n",
      " [0. 0. 0. 0. 0.]\n",
      " [0. 0. 0. 0. 0.]\n",
      " [0. 0. 0. 0. 0.]\n",
      " [0. 0. 0. 0. 0.]\n",
      " [0. 0. 0. 0. 0.]]\n"
     ]
    }
   ],
   "source": [
    "x=[1,3,7,9,8]\n",
    "df[2]=x\n",
    "print(df)"
   ]
  },
  {
   "cell_type": "code",
   "execution_count": 1,
   "id": "romantic-decision",
   "metadata": {},
   "outputs": [],
   "source": [
    "from pre_processing import *\n",
    "import numpy as np"
   ]
  },
  {
   "cell_type": "code",
   "execution_count": 2,
   "id": "cheap-backing",
   "metadata": {},
   "outputs": [],
   "source": [
    "df=np.random.rand(27, 17, 194)"
   ]
  },
  {
   "cell_type": "code",
   "execution_count": 3,
   "id": "frank-watson",
   "metadata": {},
   "outputs": [],
   "source": [
    "df=df_create(df)"
   ]
  },
  {
   "cell_type": "code",
   "execution_count": 4,
   "id": "correct-folks",
   "metadata": {},
   "outputs": [
    {
     "name": "stdout",
     "output_type": "stream",
     "text": [
      "(459, 194)\n"
     ]
    }
   ],
   "source": [
    "print(df.shape)"
   ]
  },
  {
   "cell_type": "code",
   "execution_count": 5,
   "id": "purple-impression",
   "metadata": {},
   "outputs": [],
   "source": [
    "X=standardize(df)"
   ]
  },
  {
   "cell_type": "code",
   "execution_count": 6,
   "id": "smoking-ceramic",
   "metadata": {},
   "outputs": [
    {
     "ename": "NameError",
     "evalue": "name 'scaler' is not defined",
     "output_type": "error",
     "traceback": [
      "\u001b[0;31m---------------------------------------------------------------------------\u001b[0m",
      "\u001b[0;31mNameError\u001b[0m                                 Traceback (most recent call last)",
      "\u001b[0;32m<ipython-input-6-1439d3cff9ff>\u001b[0m in \u001b[0;36m<module>\u001b[0;34m\u001b[0m\n\u001b[0;32m----> 1\u001b[0;31m \u001b[0mprint\u001b[0m\u001b[0;34m(\u001b[0m\u001b[0mscaler\u001b[0m\u001b[0;34m.\u001b[0m\u001b[0mn_features_in_\u001b[0m\u001b[0;34m)\u001b[0m\u001b[0;34m\u001b[0m\u001b[0;34m\u001b[0m\u001b[0m\n\u001b[0m",
      "\u001b[0;31mNameError\u001b[0m: name 'scaler' is not defined"
     ]
    }
   ],
   "source": []
  },
  {
   "cell_type": "code",
   "execution_count": null,
   "id": "offensive-reviewer",
   "metadata": {},
   "outputs": [],
   "source": []
  }
 ],
 "metadata": {
  "kernelspec": {
   "display_name": "Python 3",
   "language": "python",
   "name": "python3"
  },
  "language_info": {
   "codemirror_mode": {
    "name": "ipython",
    "version": 3
   },
   "file_extension": ".py",
   "mimetype": "text/x-python",
   "name": "python",
   "nbconvert_exporter": "python",
   "pygments_lexer": "ipython3",
   "version": "3.9.2"
  }
 },
 "nbformat": 4,
 "nbformat_minor": 5
}
