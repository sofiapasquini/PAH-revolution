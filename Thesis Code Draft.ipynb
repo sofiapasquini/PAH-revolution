{
 "cells": [
  {
   "cell_type": "markdown",
   "id": "waiting-country",
   "metadata": {},
   "source": [
    "# Master's research code draft.\n",
    "## PAH clustering\n",
    "### Will be exploring agglomerative/heirarchical clustering on both Spitzer and JWST data; will also compare to results of similar works (ie Boersma 2014).\n",
    "\n",
    "### Sofia Pasquini\n",
    "\n",
    "#### Just a draft at the moment, consider a github repo?"
   ]
  },
  {
   "cell_type": "code",
   "execution_count": 2,
   "id": "resident-baker",
   "metadata": {},
   "outputs": [],
   "source": [
    "#import some relevant packages\n",
    "from sklearn.cluster import AgglomerativeClustering, KMeans\n",
    "from sklearn.decomposition import PCA\n",
    "from sklearn.preprocessing import StandardScaler\n",
    "from sklearn.metrics import silhouette_samples, silhouette_score #(?)\n",
    "import matplotlib.pyplot as plt\n",
    "from astropy.io import fits"
   ]
  },
  {
   "cell_type": "markdown",
   "id": "portuguese-christian",
   "metadata": {},
   "source": [
    "## Pre-processing"
   ]
  },
  {
   "cell_type": "code",
   "execution_count": 3,
   "id": "forty-longer",
   "metadata": {},
   "outputs": [],
   "source": [
    "# load in the data \n",
    "hdul_continuum_north=fits.open(\"/Volumes/LaCie/MASTERS/NGC2023_IRS_Boersma_2016/NGC2023_CONTINUUM_MAP_NORTH.fits\")"
   ]
  },
  {
   "cell_type": "code",
   "execution_count": 4,
   "id": "recorded-jones",
   "metadata": {},
   "outputs": [
    {
     "name": "stdout",
     "output_type": "stream",
     "text": [
      "Filename: /Volumes/LaCie/MASTERS/NGC2023_IRS_Boersma_2016/NGC2023_CONTINUUM_MAP_NORTH.fits\n",
      "No.    Name      Ver    Type      Cards   Dimensions   Format\n",
      "  0  PRIMARY       1 PrimaryHDU     298   (13, 10, 194)   float64   \n",
      "  1  WAVELENGTH    1 BinTableHDU     11   25220R x 1C   [1E]   \n"
     ]
    }
   ],
   "source": [
    "hdul_continuum_north.info()"
   ]
  },
  {
   "cell_type": "code",
   "execution_count": 24,
   "id": "searching-christopher",
   "metadata": {},
   "outputs": [
    {
     "name": "stdout",
     "output_type": "stream",
     "text": [
      "(194, 10, 13)\n",
      "25220\n",
      "13\n"
     ]
    }
   ],
   "source": [
    "cont_north=hdul_continuum_north[0].data\n",
    "print(cont_north.shape)\n",
    "print(cont_north.size)\n",
    "print(len(cont_north[0,0,:]))"
   ]
  },
  {
   "cell_type": "code",
   "execution_count": 15,
   "id": "atmospheric-strength",
   "metadata": {},
   "outputs": [
    {
     "name": "stdout",
     "output_type": "stream",
     "text": [
      "(25220,)\n",
      "(5.242817) (14.736635)\n"
     ]
    }
   ],
   "source": [
    "cont_north_wavelength=hdul_continuum_north[1].data\n",
    "print(cont_north_wavelength.shape)\n",
    "print(cont_north_wavelength[0], cont_north_wavelength[-1])"
   ]
  },
  {
   "cell_type": "code",
   "execution_count": null,
   "id": "prospective-object",
   "metadata": {},
   "outputs": [],
   "source": []
  }
 ],
 "metadata": {
  "kernelspec": {
   "display_name": "Python 3",
   "language": "python",
   "name": "python3"
  },
  "language_info": {
   "codemirror_mode": {
    "name": "ipython",
    "version": 3
   },
   "file_extension": ".py",
   "mimetype": "text/x-python",
   "name": "python",
   "nbconvert_exporter": "python",
   "pygments_lexer": "ipython3",
   "version": "3.9.2"
  }
 },
 "nbformat": 4,
 "nbformat_minor": 5
}
