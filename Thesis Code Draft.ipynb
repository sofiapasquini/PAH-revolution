{
 "cells": [
  {
   "cell_type": "markdown",
   "id": "waiting-country",
   "metadata": {},
   "source": [
    "# Master's research code draft.\n",
    "## PAH clustering\n",
    "### Will be exploring agglomerative/heirarchical clustering on both Spitzer and JWST data; will also compare to results of similar works (ie Boersma 2014).\n",
    "\n",
    "### Sofia Pasquini\n",
    "\n",
    "#### Just a draft at the moment, main code developped in github.com/sofiapasquini/PAH-revolution"
   ]
  },
  {
   "cell_type": "code",
   "execution_count": 1,
   "id": "resident-baker",
   "metadata": {},
   "outputs": [],
   "source": [
    "#import some relevant packages\n",
    "from sklearn.cluster import AgglomerativeClustering, KMeans\n",
    "from sklearn.decomposition import PCA\n",
    "from sklearn.preprocessing import StandardScaler\n",
    "from sklearn.metrics import silhouette_samples, silhouette_score #(?)\n",
    "import matplotlib.pyplot as plt\n",
    "from astropy.io import fits\n",
    "import numpy as np\n",
    "from scipy import interpolate"
   ]
  },
  {
   "cell_type": "markdown",
   "id": "portuguese-christian",
   "metadata": {},
   "source": [
    "## Pre-processing\n",
    "### Load in the data and construct the spectra"
   ]
  },
  {
   "cell_type": "code",
   "execution_count": 2,
   "id": "likely-andorra",
   "metadata": {},
   "outputs": [],
   "source": [
    "#load in the data \n",
    "\n",
    "folder=\"/Volumes/LaCie/MASTERS/NGC2023_IRS_Boersma_2016/\"\n",
    "file_name= \"NGC2023_SPECTRAL_MAP_SOUTH.fits\" #just for now\n",
    "hdulist = fits.open(folder+file_name)"
   ]
  },
  {
   "cell_type": "markdown",
   "id": "trying-zoning",
   "metadata": {},
   "source": [
    "### Wavelength array"
   ]
  },
  {
   "cell_type": "code",
   "execution_count": 3,
   "id": "undefined-banks",
   "metadata": {},
   "outputs": [
    {
     "name": "stdout",
     "output_type": "stream",
     "text": [
      "<class 'numpy.ndarray'>\n",
      "(1, 194, 1)\n"
     ]
    }
   ],
   "source": [
    "#read the wavelength data and inspect type/shape\n",
    "wave=hdulist[1].data['wavelength']\n",
    "print(type(wave))\n",
    "print(wave.shape)"
   ]
  },
  {
   "cell_type": "code",
   "execution_count": 4,
   "id": "united-leather",
   "metadata": {},
   "outputs": [
    {
     "name": "stdout",
     "output_type": "stream",
     "text": [
      "<class 'numpy.ndarray'>\n",
      "(194,)\n"
     ]
    }
   ],
   "source": [
    "#reshape the wavelength array from 3 to 1 dimension\n",
    "wave=np.reshape(wave, -1)\n",
    "print(type(wave))\n",
    "print(wave.shape)"
   ]
  },
  {
   "cell_type": "code",
   "execution_count": 5,
   "id": "ultimate-interview",
   "metadata": {},
   "outputs": [
    {
     "name": "stdout",
     "output_type": "stream",
     "text": [
      "<class 'numpy.ndarray'>\n",
      "(194, 17, 27)\n"
     ]
    }
   ],
   "source": [
    "#now read in the data and check the type/shape\n",
    "spectra=hdulist[0].data\n",
    "print(type(spectra))\n",
    "print(spectra.shape)"
   ]
  },
  {
   "cell_type": "code",
   "execution_count": 6,
   "id": "invisible-verification",
   "metadata": {},
   "outputs": [
    {
     "name": "stdout",
     "output_type": "stream",
     "text": [
      "(27, 17, 194)\n",
      "27 17\n"
     ]
    }
   ],
   "source": [
    "#we want to rearrange so the dimensions are (x, y, lambda)\n",
    "spectra = np.moveaxis(np.swapaxes(spectra, 1, 2), 0, 2) \n",
    "print(spectra.shape)\n",
    "print(spectra.shape[0], spectra.shape[1])"
   ]
  },
  {
   "cell_type": "code",
   "execution_count": 7,
   "id": "minus-brisbane",
   "metadata": {},
   "outputs": [],
   "source": [
    "#make sure to close the file after we are done\n",
    "hdulist.close()"
   ]
  },
  {
   "cell_type": "markdown",
   "id": "little-netscape",
   "metadata": {},
   "source": [
    "### Continua"
   ]
  },
  {
   "cell_type": "code",
   "execution_count": 11,
   "id": "engaging-cooperative",
   "metadata": {},
   "outputs": [],
   "source": [
    "#now we wish to read in the continuum data\n",
    "file_name='NGC2023_CONTINUUM_MAP_SOUTH.fits'\n",
    "hdulist=fits.open(folder+file_name)"
   ]
  },
  {
   "cell_type": "code",
   "execution_count": 12,
   "id": "acceptable-performer",
   "metadata": {},
   "outputs": [
    {
     "name": "stdout",
     "output_type": "stream",
     "text": [
      "(89046,)\n",
      "<class 'numpy.ndarray'>\n"
     ]
    }
   ],
   "source": [
    "#first the wavelengths\n",
    "wave_cont=hdulist[1].data['wavelength']\n",
    "print(wave_cont.shape)\n",
    "print(type(wave_cont))"
   ]
  },
  {
   "cell_type": "code",
   "execution_count": 13,
   "id": "geological-complement",
   "metadata": {},
   "outputs": [],
   "source": [
    "#we now have the wavelength array repeated for each pixel\n",
    "#we want to reshape such that the wavelength array has the same format as the spectral cube\n",
    "wave_cont=np.reshape(wave_cont, [27, 17, 194], order='F') #\"F\" means the first index varies the fastest and the last one the slowest."
   ]
  },
  {
   "cell_type": "code",
   "execution_count": 14,
   "id": "floppy-temperature",
   "metadata": {},
   "outputs": [
    {
     "name": "stdout",
     "output_type": "stream",
     "text": [
      "(27, 17, 194)\n"
     ]
    },
    {
     "data": {
      "image/png": "[encoded data removed]",
      "text/plain": [
       "<Figure size 432x288 with 1 Axes>"
      ]
     },
     "metadata": {
      "needs_background": "light"
     },
     "output_type": "display_data"
    },
    {
     "data": {
      "text/plain": [
       "<Figure size 432x288 with 0 Axes>"
      ]
     },
     "metadata": {},
     "output_type": "display_data"
    }
   ],
   "source": [
    "# make integer array and test result!\n",
    "test = np.arange(194)\n",
    "print(wave_cont.shape)\n",
    "plt.plot(test, wave_cont[10,10,:], color='b')\n",
    "plt.show()\n",
    "plt.clf()"
   ]
  },
  {
   "cell_type": "code",
   "execution_count": 15,
   "id": "optimum-recording",
   "metadata": {},
   "outputs": [
    {
     "name": "stdout",
     "output_type": "stream",
     "text": [
      "(194, 17, 27)\n",
      "<class 'numpy.ndarray'>\n"
     ]
    }
   ],
   "source": [
    "#now get the continuum data\n",
    "cont=hdulist[0].data\n",
    "print(cont.shape)\n",
    "print(type(cont))\n"
   ]
  },
  {
   "cell_type": "code",
   "execution_count": 16,
   "id": "changing-outside",
   "metadata": {},
   "outputs": [
    {
     "name": "stdout",
     "output_type": "stream",
     "text": [
      "(27, 17, 194)\n",
      "<class 'numpy.ndarray'>\n"
     ]
    }
   ],
   "source": [
    "#reshape as we did before\n",
    "cont = np.moveaxis(np.swapaxes(cont, 1, 2), 0, 2)\n",
    "print(cont.shape)\n",
    "print(type(cont))"
   ]
  },
  {
   "cell_type": "code",
   "execution_count": 17,
   "id": "sharp-vault",
   "metadata": {},
   "outputs": [],
   "source": [
    "#close that file\n",
    "hdulist.close()"
   ]
  },
  {
   "cell_type": "markdown",
   "id": "trained-theta",
   "metadata": {},
   "source": [
    "### Extinction maps"
   ]
  },
  {
   "cell_type": "code",
   "execution_count": 18,
   "id": "working-export",
   "metadata": {},
   "outputs": [],
   "source": [
    "file_name= 'NGC2023_EXTINCTION_MAPS_SOUTH.fits'\n",
    "hdulist=fits.open(folder+file_name)"
   ]
  },
  {
   "cell_type": "code",
   "execution_count": 19,
   "id": "prompt-complexity",
   "metadata": {},
   "outputs": [
    {
     "name": "stdout",
     "output_type": "stream",
     "text": [
      "(194,)\n",
      "<class 'numpy.ndarray'>\n"
     ]
    }
   ],
   "source": [
    "#read in the wavelength array\n",
    "wave_ext= hdulist[2].data['wavelength']\n",
    "print(wave_ext.shape)\n",
    "print(type(wave_ext))"
   ]
  },
  {
   "cell_type": "code",
   "execution_count": 20,
   "id": "dangerous-trademark",
   "metadata": {},
   "outputs": [
    {
     "name": "stdout",
     "output_type": "stream",
     "text": [
      "(194, 17, 27)\n"
     ]
    }
   ],
   "source": [
    "#read in the extinction data\n",
    "ext= hdulist[1].data\n",
    "print(ext.shape)"
   ]
  },
  {
   "cell_type": "code",
   "execution_count": 21,
   "id": "primary-today",
   "metadata": {},
   "outputs": [
    {
     "name": "stdout",
     "output_type": "stream",
     "text": [
      "(27, 17, 194)\n"
     ]
    }
   ],
   "source": [
    "#reshape as we did before\n",
    "ext = np.moveaxis(np.swapaxes(ext, 1, 2), 0, 2)\n",
    "print(ext.shape)"
   ]
  },
  {
   "cell_type": "code",
   "execution_count": 22,
   "id": "powerful-character",
   "metadata": {},
   "outputs": [
    {
     "data": {
      "image/png": "[encoded data removed]",
      "text/plain": [
       "<Figure size 432x288 with 1 Axes>"
      ]
     },
     "metadata": {
      "needs_background": "light"
     },
     "output_type": "display_data"
    }
   ],
   "source": [
    "# check if all wavelength arrays are the same ---> Yes!\n",
    "plt.plot(wave, wave-wave_ext, color='r')\n",
    "plt.plot(wave, wave-wave_cont[15, 15, :], color='g')\n",
    "plt.plot(wave, wave_cont[4,4,:]-wave_cont[15, 15, :], color='b')\n",
    "plt.show()\n"
   ]
  },
  {
   "cell_type": "code",
   "execution_count": 23,
   "id": "running-excitement",
   "metadata": {},
   "outputs": [],
   "source": [
    "# #lets plot the spectrum with the corresponding continuum in a pdf\n",
    "\n",
    "# from matplotlib.backends.backend_pdf import PdfPages\n",
    "\n",
    "# with PdfPages('plot_spectra_cont_C.pdf') as pdf:\n",
    "# \tfor i in np.arange(len(spectra[:, 0, 0])):\n",
    "# \t\tfor j in np.arange(len(spectra[0, :, 0])):\n",
    "# \t\t\tplt.figure(figsize=(3, 3))\n",
    "# \t\t\tplt.plot(wave, spectra[i, j, :], color='b')\n",
    "# \t\t\tplt.plot(wave, cont[i, j, :], color='r')\n",
    "# \t\t\tplt.plot(wave, ext[i,j,:]*100, color='g')\n",
    "# \t\t\tplt.title('('+str(i)+','+str(j)+')')\n",
    "# \t\t\tpdf.savefig()  # saves the current figure into a pdf page\n",
    "# \t\t\tplt.close()"
   ]
  },
  {
   "cell_type": "markdown",
   "id": "varied-development",
   "metadata": {},
   "source": [
    "### Extinction Correction + Continuum Fit"
   ]
  },
  {
   "cell_type": "code",
   "execution_count": 24,
   "id": "amino-tattoo",
   "metadata": {},
   "outputs": [],
   "source": [
    "#extinction correct the spectra\n",
    "extcorr_spectra=spectra/ext"
   ]
  },
  {
   "cell_type": "code",
   "execution_count": 25,
   "id": "dependent-function",
   "metadata": {},
   "outputs": [],
   "source": [
    "#fit a spline continuum\n",
    "\n",
    "flux = extcorr_spectra[18, 8, :]\n",
    "\n",
    "#set the anchor points\n",
    "anchor_ind_init = np.array([4, 10, 42, 57, 107, 115, 121, 145, 166, 178]) #### [5.36, 5.5, 6.54, 7.00, 9.39, 9.89, 10.26, 11.75, 13.06, 13.80]\n",
    "\n",
    "# find closest wavelengths in wave array\n",
    "\n",
    "xanchor = wave[anchor_ind_init]    #### <class 'numpy.ndarray'> (also array if you use a list for anchor_ind_init)\n",
    "yanchor = flux[anchor_ind_init]\n"
   ]
  },
  {
   "cell_type": "code",
   "execution_count": 26,
   "id": "stable-yeast",
   "metadata": {},
   "outputs": [],
   "source": [
    "#now determine the spline fit\n",
    "def splinefit(xpoints,ypoints):\n",
    "  x = np.array(xpoints)\n",
    "  y = np.array(ypoints)\n",
    "\n",
    "  # spline interpolation\n",
    "  tck = interpolate.splrep(x, y, s=0)\n",
    "\n",
    "  # new wavelength points to evaluate spline\n",
    "  xnew = np.arange(min(xpoints),max(xpoints),0.001)\n",
    "  # evaluate spline at new points\n",
    "  ynew = interpolate.splev(xnew, tck, der=0)\n",
    "\n",
    "  # plot the spline\n",
    "  # plt.plot(xnew,ynew,label='continuum')\n",
    "  # plt.plot(xpoints,ypoints,'ro')\n",
    "  # plt.show()\n",
    "\n",
    "  # return\n",
    "  return tck\n",
    "\n"
   ]
  },
  {
   "cell_type": "code",
   "execution_count": 27,
   "id": "computational-month",
   "metadata": {},
   "outputs": [
    {
     "name": "stdout",
     "output_type": "stream",
     "text": [
      "<class 'tuple'>\n"
     ]
    }
   ],
   "source": [
    "spline = splinefit(xanchor, yanchor)\n",
    "print(type(spline))"
   ]
  },
  {
   "cell_type": "code",
   "execution_count": 28,
   "id": "registered-impossible",
   "metadata": {},
   "outputs": [
    {
     "data": {
      "image/png": "[encoded data removed]",
      "text/plain": [
       "<Figure size 432x288 with 1 Axes>"
      ]
     },
     "metadata": {
      "needs_background": "light"
     },
     "output_type": "display_data"
    }
   ],
   "source": [
    "plt.plot(wave, flux, color='b')\n",
    "plt.plot(xanchor, yanchor, 'ro')\n",
    "#plt.plot(xanchor, spline, 'g+')\n",
    "plt.show()\n"
   ]
  },
  {
   "cell_type": "code",
   "execution_count": 29,
   "id": "yellow-information",
   "metadata": {},
   "outputs": [
    {
     "name": "stdout",
     "output_type": "stream",
     "text": [
      "(27, 17, 194)\n"
     ]
    },
    {
     "data": {
      "image/png": "[encoded data removed]",
      "text/plain": [
       "<Figure size 432x288 with 1 Axes>"
      ]
     },
     "metadata": {
      "needs_background": "light"
     },
     "output_type": "display_data"
    }
   ],
   "source": [
    "i = 18\n",
    "j = 8\n",
    "\n",
    "print(((spectra-cont)/ext).shape)\n",
    "t=(spectra-cont)\n",
    "tt=(spectra-cont)/ext\n",
    "plt.plot(wave, spectra[i, j, :], color='b', label='raw spec')\n",
    "plt.plot(wave, cont[i, j, :], color='r', label='continuum')\n",
    "plt.plot(wave, ext[i,j,:]*100, color='g', label='extinction correction')\n",
    "plt.plot(wave, t[i,j,:], color='y', label='emission only')\n",
    "plt.plot(wave, tt[i,j,:], color='orange', label='ext-corrected emission only')\n",
    "plt.legend()\n",
    "plt.show()\n"
   ]
  },
  {
   "cell_type": "code",
   "execution_count": 30,
   "id": "detailed-reporter",
   "metadata": {},
   "outputs": [],
   "source": [
    "#in the above plot it just happens that the emission only spectrum and the emission only spectrum which has been extinction corrected coincide.\n"
   ]
  },
  {
   "cell_type": "code",
   "execution_count": 31,
   "id": "extraordinary-stupid",
   "metadata": {},
   "outputs": [
    {
     "name": "stdout",
     "output_type": "stream",
     "text": [
      "[[0. 0. 0. 0. 0.]\n",
      " [0. 0. 0. 0. 0.]\n",
      " [0. 0. 0. 0. 0.]\n",
      " [0. 0. 0. 0. 0.]\n",
      " [0. 0. 0. 0. 0.]\n",
      " [0. 0. 0. 0. 0.]\n",
      " [0. 0. 0. 0. 0.]\n",
      " [0. 0. 0. 0. 0.]\n",
      " [0. 0. 0. 0. 0.]\n",
      " [0. 0. 0. 0. 0.]]\n"
     ]
    }
   ],
   "source": [
    "df=np.zeros(shape=(10,5))\n",
    "print(df)"
   ]
  },
  {
   "cell_type": "code",
   "execution_count": 32,
   "id": "prospective-object",
   "metadata": {},
   "outputs": [
    {
     "name": "stdout",
     "output_type": "stream",
     "text": [
      "[[0. 0. 0. 0. 0.]\n",
      " [1. 2. 3. 4. 5.]\n",
      " [0. 0. 0. 0. 0.]\n",
      " [0. 0. 0. 0. 0.]\n",
      " [0. 0. 0. 0. 0.]\n",
      " [0. 0. 0. 0. 0.]\n",
      " [0. 0. 0. 0. 0.]\n",
      " [0. 0. 0. 0. 0.]\n",
      " [0. 0. 0. 0. 0.]\n",
      " [0. 0. 0. 0. 0.]]\n"
     ]
    }
   ],
   "source": [
    "df[1]=[1,2,3,4,5]\n",
    "print(df)"
   ]
  },
  {
   "cell_type": "code",
   "execution_count": 33,
   "id": "handed-vinyl",
   "metadata": {},
   "outputs": [
    {
     "name": "stdout",
     "output_type": "stream",
     "text": [
      "[[0. 0. 0. 0. 0.]\n",
      " [1. 2. 3. 4. 5.]\n",
      " [1. 3. 7. 9. 8.]\n",
      " [0. 0. 0. 0. 0.]\n",
      " [0. 0. 0. 0. 0.]\n",
      " [0. 0. 0. 0. 0.]\n",
      " [0. 0. 0. 0. 0.]\n",
      " [0. 0. 0. 0. 0.]\n",
      " [0. 0. 0. 0. 0.]\n",
      " [0. 0. 0. 0. 0.]]\n"
     ]
    }
   ],
   "source": [
    "x=[1,3,7,9,8]\n",
    "df[2]=x\n",
    "print(df)"
   ]
  },
  {
   "cell_type": "code",
   "execution_count": 34,
   "id": "romantic-decision",
   "metadata": {},
   "outputs": [],
   "source": [
    "from pre_processing import *\n",
    "import numpy as np"
   ]
  },
  {
   "cell_type": "code",
   "execution_count": 35,
   "id": "cheap-backing",
   "metadata": {},
   "outputs": [],
   "source": [
    "df=np.random.rand(27, 17, 194)"
   ]
  },
  {
   "cell_type": "code",
   "execution_count": 36,
   "id": "frank-watson",
   "metadata": {},
   "outputs": [],
   "source": [
    "df=df_create(df)"
   ]
  },
  {
   "cell_type": "code",
   "execution_count": 37,
   "id": "correct-folks",
   "metadata": {},
   "outputs": [
    {
     "name": "stdout",
     "output_type": "stream",
     "text": [
      "(459, 194)\n",
      "[0.48684686 0.47562503 0.51734636 0.49653135 0.50197036 0.49697313\n",
      " 0.48086713 0.46935111 0.49649036 0.50721597 0.48396794 0.49873471\n",
      " 0.48186285 0.47126353 0.50362963 0.50698978 0.48687017 0.47948579\n",
      " 0.49586489 0.48136625 0.52108987 0.48445154 0.51778593 0.50612261\n",
      " 0.49844032 0.48653737 0.50139769 0.49082533 0.50582187 0.50293182\n",
      " 0.48260661 0.51716574 0.48378041 0.50395164 0.50807298 0.5246066\n",
      " 0.51263959 0.52286265 0.5002001  0.50093474 0.49271607 0.490309\n",
      " 0.50034261 0.50467876 0.5134131  0.49883683 0.49104885 0.49266844\n",
      " 0.48245091 0.47531833 0.52124192 0.4913143  0.48901047 0.48066996\n",
      " 0.4918778  0.51820805 0.48020805 0.49650249 0.50356552 0.51664992\n",
      " 0.50007086 0.45886779 0.50460798 0.49009506 0.49154532 0.50196428\n",
      " 0.465066   0.49335184 0.49627928 0.50652878 0.48568967 0.51916879\n",
      " 0.48693327 0.49554375 0.48711745 0.52089477 0.48501213 0.49089813\n",
      " 0.4885634  0.48706502 0.50796976 0.4890058  0.51156105 0.48768782\n",
      " 0.51649198 0.51415971 0.52919544 0.50259775 0.50370819 0.49943833\n",
      " 0.53295927 0.488471   0.50741867 0.50943699 0.50176273 0.48235144\n",
      " 0.49007868 0.49658987 0.50093852 0.51187238 0.4936376  0.49096937\n",
      " 0.51723025 0.50254807 0.4831782  0.51231628 0.48859068 0.49903156\n",
      " 0.49635198 0.51983595 0.48171186 0.51057082 0.48876276 0.50457453\n",
      " 0.51601433 0.48795181 0.49416525 0.50779398 0.49231619 0.47665333\n",
      " 0.5183333  0.51357289 0.53631318 0.52705019 0.49961949 0.48602317\n",
      " 0.47309664 0.51434535 0.50887416 0.48340205 0.50373218 0.52658066\n",
      " 0.50372199 0.52681469 0.49158761 0.50522628 0.4856022  0.49602696\n",
      " 0.51274015 0.49521029 0.48619291 0.48217186 0.51385366 0.5077832\n",
      " 0.48638548 0.49498613 0.51173949 0.51137557 0.51424592 0.50961767\n",
      " 0.48388892 0.47103864 0.50724564 0.50551424 0.50751519 0.51127807\n",
      " 0.49532548 0.51210354 0.49573427 0.492115   0.49530565 0.47468099\n",
      " 0.47580642 0.46530925 0.53525612 0.51687659 0.50019966 0.51492196\n",
      " 0.48256329 0.50435016 0.50669766 0.50663618 0.51421537 0.47763851\n",
      " 0.50510114 0.51106828 0.49008773 0.52025366 0.49110546 0.50183591\n",
      " 0.50809659 0.48189411 0.48375469 0.47264937 0.48088626 0.47753638\n",
      " 0.49736571 0.51239931 0.51812783 0.51112508 0.49005892 0.51155713\n",
      " 0.49234651 0.49377341]\n"
     ]
    }
   ],
   "source": [
    "print(df.shape)\n",
    "\n",
    "print(df.mean(axis=0))"
   ]
  },
  {
   "cell_type": "markdown",
   "id": "harmful-scholar",
   "metadata": {},
   "source": [
    "### SOFIA- trying to figure out what is happening with the \"cluster maps\" Christiaan has shared w me:"
   ]
  },
  {
   "cell_type": "code",
   "execution_count": 39,
   "id": "successful-advantage",
   "metadata": {},
   "outputs": [],
   "source": [
    "##load in the map and lets check out the size/shape\n",
    "map_file= \"NGC2023_ZONES_MAP_SOUTH.fits\"\n",
    "hdulist = fits.open(folder+map_file)"
   ]
  },
  {
   "cell_type": "code",
   "execution_count": 41,
   "id": "rational-viking",
   "metadata": {},
   "outputs": [
    {
     "name": "stdout",
     "output_type": "stream",
     "text": [
      "Filename: /Volumes/LaCie/MASTERS/NGC2023_IRS_Boersma_2016/NGC2023_ZONES_MAP_SOUTH.fits\n",
      "No.    Name      Ver    Type      Cards   Dimensions   Format\n",
      "  0  PRIMARY       1 PrimaryHDU       9   (27, 17)   int32   \n"
     ]
    }
   ],
   "source": [
    "hdulist.info()"
   ]
  },
  {
   "cell_type": "code",
   "execution_count": 43,
   "id": "fatal-venezuela",
   "metadata": {},
   "outputs": [
    {
     "data": {
      "text/plain": [
       "(17, 27)"
      ]
     },
     "execution_count": 43,
     "metadata": {},
     "output_type": "execute_result"
    }
   ],
   "source": [
    "map=hdulist[0].data\n",
    "map.shape"
   ]
  },
  {
   "cell_type": "code",
   "execution_count": 47,
   "id": "posted-hunter",
   "metadata": {},
   "outputs": [
    {
     "name": "stdout",
     "output_type": "stream",
     "text": [
      "[[1 1 1 1 1 1 1 1 1 1 1 1 1 1 1 1 1 1 1 1 2 1 1 2 2 3 3]\n",
      " [1 1 1 1 1 1 1 1 1 1 1 1 1 1 1 1 1 1 1 2 2 2 2 2 3 3 3]\n",
      " [1 1 1 1 1 1 1 1 1 1 1 1 1 1 1 1 1 1 2 2 2 2 2 3 3 3 3]\n",
      " [1 1 1 1 1 1 1 1 1 1 1 1 1 1 1 1 1 2 2 2 2 2 2 3 3 3 4]\n",
      " [1 1 1 1 1 1 1 1 1 1 1 1 1 1 1 1 1 2 2 2 2 2 3 3 3 4 4]\n",
      " [1 1 1 1 1 1 1 1 1 1 1 1 1 1 1 1 2 2 2 2 2 2 3 3 3 4 0]\n",
      " [1 1 1 1 1 1 1 1 1 1 1 1 1 1 1 1 2 2 2 2 2 3 3 3 4 4 0]\n",
      " [1 1 1 1 1 1 1 1 1 1 1 1 1 1 1 1 2 2 3 3 3 3 3 4 4 4 0]\n",
      " [1 1 1 1 1 1 1 1 1 1 1 1 1 1 1 2 2 2 3 3 3 3 3 4 4 4 0]\n",
      " [1 1 1 1 1 1 1 1 1 1 1 1 1 1 1 2 2 3 3 3 3 3 0 0 0 0 0]\n",
      " [1 1 1 1 1 1 1 1 1 1 1 1 1 1 1 2 2 3 3 3 4 4 0 0 0 0 0]\n",
      " [1 1 1 1 1 1 1 1 1 1 1 1 1 1 2 2 3 3 3 4 0 0 0 0 0 0 0]\n",
      " [1 1 1 1 1 1 1 1 1 1 1 1 1 1 2 3 3 3 3 4 4 4 0 0 0 0 0]\n",
      " [1 1 1 1 1 1 1 1 1 1 1 1 1 2 0 0 3 3 3 3 4 3 0 0 0 0 0]\n",
      " [1 1 1 1 1 1 1 1 1 1 1 1 1 1 3 3 3 3 3 3 4 3 4 4 4 4 0]\n",
      " [1 1 1 1 1 1 1 1 1 1 1 1 1 1 1 2 3 3 3 3 3 3 4 4 4 4 0]]\n"
     ]
    }
   ],
   "source": [
    "print(map[0:16,:])"
   ]
  },
  {
   "cell_type": "markdown",
   "id": "duplicate-proceeding",
   "metadata": {},
   "source": [
    "### SOFIA- now trying to figure out how to create the figure with the averaged spectra"
   ]
  },
  {
   "cell_type": "code",
   "execution_count": 1,
   "id": "unlikely-danish",
   "metadata": {},
   "outputs": [],
   "source": [
    "#lets just try running algorithm 1 and then using those results to create the averaged spectra\n",
    "\n",
    "#import relevant packages\n",
    "# from processing import optimal_clusters_inspect, pca_visual, plot_dendrogram\n",
    "from spec_build import *\n",
    "from pre_processing import *\n",
    "from sklearn.cluster import AgglomerativeClustering, KMeans\n",
    "from sklearn.decomposition import PCA\n",
    "from sklearn.preprocessing import normalize\n",
    "import matplotlib.pyplot as plt\n",
    "import matplotlib.cm as cm\n",
    "\n",
    "##SOFIA- currently working only with the South files, pondering how best to\n",
    "#consolidate the South data files into the dataset\n",
    "\n",
    "#load in and reshape all wavelength, extinction, spectral maps\n",
    "spectra, wave= load_spec_wavelength(\"NGC2023_SPECTRAL_MAP_SOUTH.fits\")\n",
    "\n",
    "#load in and reshape continuum and corresponding wavelentgh arrays\n",
    "cont, wave_cont=load_continuum(\"NGC2023_CONTINUUM_MAP_SOUTH.fits\")\n",
    "\n",
    "#load in and reshape the extinction maps and corresponding wavelength array\n",
    "ext, wave_ext=load_extinction(\"NGC2023_EXTINCTION_MAPS_SOUTH.fits\")\n",
    "\n",
    "#extinction correct the spectra\n",
    "##SOFIA-comment this line out when performing clustering on spectra that have\n",
    "#NOT been extinction corrected\n",
    "# ext_corr_spec=extinction_correct(ext, spectra)\n",
    "\n",
    "#pre-processing\n",
    "\n",
    "#transform the map(s) from 3 to 2-dimensional array(s and consolidate)\n",
    "df=df_create(spectra)\n",
    "\n",
    "#apply normalization to the spectra\n",
    "df=normalize(df)\n",
    "#uncomment the line below if you want to normalize wrt the 7.7 micro meter flux:\n",
    "# df=normalize_77(df)\n",
    "\n",
    "#processing- the algorithm itself\n",
    "\n",
    "#start by determining the optimal number of clusters to use\n",
    "\n",
    "clusters_range=[2,3,4,5,6,7,8] #can change to anything you like\n",
    "\n",
    "#create an elbow plot to visualize the difference between the quality of clustering for each number of clusters\n",
    "# elbow_plot(cluster_range=clusters_range, data=df)\n",
    "\n",
    "#visually inspect the clusters to determine the optimal number of clusters\n",
    "# optimal_clusters_inspect(clusters_range, df)\n",
    "\n",
    "#prompt the user for the optimal number of clusters going forwards\n",
    "# optimal_n_clusters=int(input(\"Please input the optimal number of clusters: \"))\n",
    "\n",
    "#deploy agglomerative clustering with optimal number of clusters\n",
    "##SOFIA- consider re-coding this in a method in the clustering module?\n",
    "\n",
    "#first perform PCA to retrieve parameter space dimensions\n",
    "# pca = PCA(n_components = 2) # use 2 from Ameek's paper- could also experiment with others...\n",
    "# df_pca = pca.fit_transform(df)\n",
    "\n",
    "#apply the agglomerative clustering algorithm with optimal number of clusters\n",
    "clusterer=AgglomerativeClustering(n_clusters=4, compute_distances=True) #SOFIA- experiment/finalize parameter settings\n",
    "cluster_labels=clusterer.fit_predict(df)\n",
    "\n",
    "# #now plot the results\n",
    "# #plot in pc space, color-code by cluster\n",
    "# for i in range(optimal_n_clusters):\n",
    "#     color = cm.nipy_spectral(float(i) / optimal_n_clusters)\n",
    "#     plt.scatter(df_pca[cluster_labels==i, 0], df_pca[cluster_labels==i, 1], \n",
    "#                 label='Cluster %i' % (i+1))\n",
    "\n",
    "# plt.xlabel('Component 1')\n",
    "# plt.ylabel('Component 2')\n",
    "# plt.title('PCA-transformed plot for %i clusters' % optimal_n_clusters)\n",
    "# plt.legend()\n",
    "# plt.show()\n",
    "\n",
    "\n",
    "# #now lets try for a dendrogram visual\n",
    "# plt.title(\"Hierarchical Clustering Dendrogram\")\n",
    "# # plot the top three levels of the dendrogram\n",
    "# plot_dendrogram(clusterer, truncate_mode=\"none\")\n",
    "# plt.xlabel(\"Number of points in node (or index of point if no parenthesis).\")\n",
    "# plt.show()\n",
    "\n",
    "#analyze key features of spectra groups/clusters here\n",
    "\n"
   ]
  },
  {
   "cell_type": "code",
   "execution_count": 2,
   "id": "fundamental-passage",
   "metadata": {},
   "outputs": [
    {
     "name": "stdout",
     "output_type": "stream",
     "text": [
      "(459,)\n",
      "(27, 17, 194)\n"
     ]
    }
   ],
   "source": [
    "#now lets see what shape are the labels/spectra\n",
    "print(cluster_labels.shape)\n",
    "print(spectra.shape)"
   ]
  },
  {
   "cell_type": "code",
   "execution_count": 3,
   "id": "positive-ottawa",
   "metadata": {},
   "outputs": [
    {
     "name": "stdout",
     "output_type": "stream",
     "text": [
      "(27, 17)\n",
      "[1 1 1 3 3 3 3 3 3 3 3 3 3 3 3 3 3]\n"
     ]
    }
   ],
   "source": [
    "#have to define a new function that somehow takes the 2-D array and re-constructs the 3D cube from it!\n",
    "#in this case (the Spitzer south maps) the dimensions will be 27 x 17x 1 where the third dimension is the cluster labels\n",
    "\n",
    "rows=27\n",
    "cols=17\n",
    "\n",
    "#SOFIA- maybe I can use np.reshape here?!- YESSS!\n",
    "# a=np.arange(6)\n",
    "# b=np.c_[a,a,a]\n",
    "# print(b.shape)\n",
    "# print(b)\n",
    "\n",
    "# c=np.reshape(b, (18,1), order=\"C\")\n",
    "# print(c)\n",
    "\n",
    "# #now back to the original shape\n",
    "# d=np.reshape(c, (6,3), order=\"C\")\n",
    "# print(d)\n",
    "\n",
    "\n",
    "label_matrix=np.reshape(cluster_labels, (rows, cols))\n",
    "print(label_matrix.shape)\n",
    "print(label_matrix[0,:])\n",
    "        "
   ]
  },
  {
   "cell_type": "markdown",
   "id": "unsigned-complexity",
   "metadata": {},
   "source": [
    "### SOFIA- trying to figure out how to code the averaged spectra per cluster zone\n",
    "#### Idea: write a function that just calculates the averaged spectra for a given label"
   ]
  },
  {
   "cell_type": "code",
   "execution_count": 4,
   "id": "intelligent-request",
   "metadata": {},
   "outputs": [],
   "source": [
    "\n",
    "def avg_label(label, spectra, labels): #inputs are an integer label, the array holding the spectra, and the array holding the labels\n",
    "    \n",
    "    specs_list=[] #an empty list- will hold all the spectra (arrays) for the specified label\n",
    "    \n",
    "    #iterate through the labels array\n",
    "    #the first two indices in the spectra array match those in the labels array\n",
    "    for i in range(labels.shape[0]): #across the rows\n",
    "        for j in range(labels.shape[1]): #across the columns\n",
    "            \n",
    "            #save all the corresponding spectra\n",
    "            if labels[i,j]==label:\n",
    "                specs_list.append(spectra[i,j,:]) #save the spectrum to the list\n",
    "     \n",
    "    specs_array=np.array(specs_list) #create an array of the spectra (easier for the following operations)\n",
    "    \n",
    "    #average them up- we want to average along each flux value\n",
    "    #we construct the averaged spectrum one wavelength at a time\n",
    "    avg_spec=np.zeros((specs_array.shape[1])) #an empty array to hold each of the flux values\n",
    "    \n",
    "    for wavelength in range(specs_array.shape[1]): # iterate across the wavelength dimension\n",
    "        #calculate the average flux value for each wavelength\n",
    "        avg_flux_value=np.mean(specs_array[:,wavelength]) \n",
    "        #now save the flux value in the corresponding position in the container for the averaged spectrum\n",
    "        avg_spec[wavelength]=avg_flux_value\n",
    "        \n",
    "    #now return the averaged spectrum for the given label\n",
    "    return avg_spec\n",
    "\n",
    "\n",
    "\n",
    "\n",
    "\n",
    "\n",
    "\n",
    "#plot the averaged spectrum for the label"
   ]
  },
  {
   "cell_type": "code",
   "execution_count": 13,
   "id": "vietnamese-andorra",
   "metadata": {},
   "outputs": [],
   "source": [
    "avg_spec=avg_label(1, spectra, label_matrix)"
   ]
  },
  {
   "cell_type": "code",
   "execution_count": 14,
   "id": "resident-gender",
   "metadata": {},
   "outputs": [
    {
     "data": {
      "image/png": "[encoded data removed]",
      "text/plain": [
       "<Figure size 432x288 with 1 Axes>"
      ]
     },
     "metadata": {
      "needs_background": "light"
     },
     "output_type": "display_data"
    }
   ],
   "source": [
    "plt.plot(wave, avg_spec )\n",
    "plt.show()"
   ]
  },
  {
   "cell_type": "markdown",
   "id": "organizational-chart",
   "metadata": {},
   "source": [
    "## SOFIA- have to add this code to the repo, also check that the averaging works properly, those flux values look kinda big?"
   ]
  },
  {
   "cell_type": "code",
   "execution_count": 9,
   "id": "better-absolute",
   "metadata": {},
   "outputs": [
    {
     "ename": "AttributeError",
     "evalue": "'Line2D' object has no property 'lable'",
     "output_type": "error",
     "traceback": [
      "\u001b[0;31m---------------------------------------------------------------------------\u001b[0m",
      "\u001b[0;31mAttributeError\u001b[0m                            Traceback (most recent call last)",
      "\u001b[0;32m<ipython-input-9-6d5eaacf5a4b>\u001b[0m in \u001b[0;36m<module>\u001b[0;34m\u001b[0m\n\u001b[1;32m      1\u001b[0m \u001b[0;32mfor\u001b[0m \u001b[0mi\u001b[0m \u001b[0;32min\u001b[0m \u001b[0mrange\u001b[0m\u001b[0;34m(\u001b[0m\u001b[0;36m4\u001b[0m\u001b[0;34m)\u001b[0m\u001b[0;34m:\u001b[0m\u001b[0;34m\u001b[0m\u001b[0;34m\u001b[0m\u001b[0m\n\u001b[1;32m      2\u001b[0m     \u001b[0mavg_spec\u001b[0m\u001b[0;34m=\u001b[0m\u001b[0mavg_label\u001b[0m\u001b[0;34m(\u001b[0m\u001b[0mi\u001b[0m\u001b[0;34m,\u001b[0m \u001b[0mspectra\u001b[0m\u001b[0;34m,\u001b[0m \u001b[0mlabel_matrix\u001b[0m\u001b[0;34m)\u001b[0m\u001b[0;34m\u001b[0m\u001b[0;34m\u001b[0m\u001b[0m\n\u001b[0;32m----> 3\u001b[0;31m     \u001b[0mplt\u001b[0m\u001b[0;34m.\u001b[0m\u001b[0mplot\u001b[0m\u001b[0;34m(\u001b[0m\u001b[0mwave\u001b[0m\u001b[0;34m,\u001b[0m \u001b[0mavg_spec\u001b[0m\u001b[0;34m,\u001b[0m \u001b[0mlable\u001b[0m\u001b[0;34m=\u001b[0m\u001b[0;34mf\"label: {i}\"\u001b[0m\u001b[0;34m)\u001b[0m\u001b[0;34m\u001b[0m\u001b[0;34m\u001b[0m\u001b[0m\n\u001b[0m\u001b[1;32m      4\u001b[0m     \u001b[0mplt\u001b[0m\u001b[0;34m.\u001b[0m\u001b[0mlegend\u001b[0m\u001b[0;34m(\u001b[0m\u001b[0mloc\u001b[0m\u001b[0;34m=\u001b[0m\u001b[0mbest\u001b[0m\u001b[0;34m)\u001b[0m\u001b[0;34m\u001b[0m\u001b[0;34m\u001b[0m\u001b[0m\n\u001b[1;32m      5\u001b[0m     \u001b[0mplt\u001b[0m\u001b[0;34m.\u001b[0m\u001b[0mshow\u001b[0m\u001b[0;34m(\u001b[0m\u001b[0;34m)\u001b[0m\u001b[0;34m\u001b[0m\u001b[0;34m\u001b[0m\u001b[0m\n",
      "\u001b[0;32m/usr/local/lib/python3.9/site-packages/matplotlib/pyplot.py\u001b[0m in \u001b[0;36mplot\u001b[0;34m(scalex, scaley, data, *args, **kwargs)\u001b[0m\n\u001b[1;32m   2838\u001b[0m \u001b[0;34m@\u001b[0m\u001b[0m_copy_docstring_and_deprecators\u001b[0m\u001b[0;34m(\u001b[0m\u001b[0mAxes\u001b[0m\u001b[0;34m.\u001b[0m\u001b[0mplot\u001b[0m\u001b[0;34m)\u001b[0m\u001b[0;34m\u001b[0m\u001b[0;34m\u001b[0m\u001b[0m\n\u001b[1;32m   2839\u001b[0m \u001b[0;32mdef\u001b[0m \u001b[0mplot\u001b[0m\u001b[0;34m(\u001b[0m\u001b[0;34m*\u001b[0m\u001b[0margs\u001b[0m\u001b[0;34m,\u001b[0m \u001b[0mscalex\u001b[0m\u001b[0;34m=\u001b[0m\u001b[0;32mTrue\u001b[0m\u001b[0;34m,\u001b[0m \u001b[0mscaley\u001b[0m\u001b[0;34m=\u001b[0m\u001b[0;32mTrue\u001b[0m\u001b[0;34m,\u001b[0m \u001b[0mdata\u001b[0m\u001b[0;34m=\u001b[0m\u001b[0;32mNone\u001b[0m\u001b[0;34m,\u001b[0m \u001b[0;34m**\u001b[0m\u001b[0mkwargs\u001b[0m\u001b[0;34m)\u001b[0m\u001b[0;34m:\u001b[0m\u001b[0;34m\u001b[0m\u001b[0;34m\u001b[0m\u001b[0m\n\u001b[0;32m-> 2840\u001b[0;31m     return gca().plot(\n\u001b[0m\u001b[1;32m   2841\u001b[0m         \u001b[0;34m*\u001b[0m\u001b[0margs\u001b[0m\u001b[0;34m,\u001b[0m \u001b[0mscalex\u001b[0m\u001b[0;34m=\u001b[0m\u001b[0mscalex\u001b[0m\u001b[0;34m,\u001b[0m \u001b[0mscaley\u001b[0m\u001b[0;34m=\u001b[0m\u001b[0mscaley\u001b[0m\u001b[0;34m,\u001b[0m\u001b[0;34m\u001b[0m\u001b[0;34m\u001b[0m\u001b[0m\n\u001b[1;32m   2842\u001b[0m         **({\"data\": data} if data is not None else {}), **kwargs)\n",
      "\u001b[0;32m/usr/local/lib/python3.9/site-packages/matplotlib/axes/_axes.py\u001b[0m in \u001b[0;36mplot\u001b[0;34m(self, scalex, scaley, data, *args, **kwargs)\u001b[0m\n\u001b[1;32m   1741\u001b[0m         \"\"\"\n\u001b[1;32m   1742\u001b[0m         \u001b[0mkwargs\u001b[0m \u001b[0;34m=\u001b[0m \u001b[0mcbook\u001b[0m\u001b[0;34m.\u001b[0m\u001b[0mnormalize_kwargs\u001b[0m\u001b[0;34m(\u001b[0m\u001b[0mkwargs\u001b[0m\u001b[0;34m,\u001b[0m \u001b[0mmlines\u001b[0m\u001b[0;34m.\u001b[0m\u001b[0mLine2D\u001b[0m\u001b[0;34m)\u001b[0m\u001b[0;34m\u001b[0m\u001b[0;34m\u001b[0m\u001b[0m\n\u001b[0;32m-> 1743\u001b[0;31m         \u001b[0mlines\u001b[0m \u001b[0;34m=\u001b[0m \u001b[0;34m[\u001b[0m\u001b[0;34m*\u001b[0m\u001b[0mself\u001b[0m\u001b[0;34m.\u001b[0m\u001b[0m_get_lines\u001b[0m\u001b[0;34m(\u001b[0m\u001b[0;34m*\u001b[0m\u001b[0margs\u001b[0m\u001b[0;34m,\u001b[0m \u001b[0mdata\u001b[0m\u001b[0;34m=\u001b[0m\u001b[0mdata\u001b[0m\u001b[0;34m,\u001b[0m \u001b[0;34m**\u001b[0m\u001b[0mkwargs\u001b[0m\u001b[0;34m)\u001b[0m\u001b[0;34m]\u001b[0m\u001b[0;34m\u001b[0m\u001b[0;34m\u001b[0m\u001b[0m\n\u001b[0m\u001b[1;32m   1744\u001b[0m         \u001b[0;32mfor\u001b[0m \u001b[0mline\u001b[0m \u001b[0;32min\u001b[0m \u001b[0mlines\u001b[0m\u001b[0;34m:\u001b[0m\u001b[0;34m\u001b[0m\u001b[0;34m\u001b[0m\u001b[0m\n\u001b[1;32m   1745\u001b[0m             \u001b[0mself\u001b[0m\u001b[0;34m.\u001b[0m\u001b[0madd_line\u001b[0m\u001b[0;34m(\u001b[0m\u001b[0mline\u001b[0m\u001b[0;34m)\u001b[0m\u001b[0;34m\u001b[0m\u001b[0;34m\u001b[0m\u001b[0m\n",
      "\u001b[0;32m/usr/local/lib/python3.9/site-packages/matplotlib/axes/_base.py\u001b[0m in \u001b[0;36m__call__\u001b[0;34m(self, data, *args, **kwargs)\u001b[0m\n\u001b[1;32m    271\u001b[0m                 \u001b[0mthis\u001b[0m \u001b[0;34m+=\u001b[0m \u001b[0margs\u001b[0m\u001b[0;34m[\u001b[0m\u001b[0;36m0\u001b[0m\u001b[0;34m]\u001b[0m\u001b[0;34m,\u001b[0m\u001b[0;34m\u001b[0m\u001b[0;34m\u001b[0m\u001b[0m\n\u001b[1;32m    272\u001b[0m                 \u001b[0margs\u001b[0m \u001b[0;34m=\u001b[0m \u001b[0margs\u001b[0m\u001b[0;34m[\u001b[0m\u001b[0;36m1\u001b[0m\u001b[0;34m:\u001b[0m\u001b[0;34m]\u001b[0m\u001b[0;34m\u001b[0m\u001b[0;34m\u001b[0m\u001b[0m\n\u001b[0;32m--> 273\u001b[0;31m             \u001b[0;32myield\u001b[0m \u001b[0;32mfrom\u001b[0m \u001b[0mself\u001b[0m\u001b[0;34m.\u001b[0m\u001b[0m_plot_args\u001b[0m\u001b[0;34m(\u001b[0m\u001b[0mthis\u001b[0m\u001b[0;34m,\u001b[0m \u001b[0mkwargs\u001b[0m\u001b[0;34m)\u001b[0m\u001b[0;34m\u001b[0m\u001b[0;34m\u001b[0m\u001b[0m\n\u001b[0m\u001b[1;32m    274\u001b[0m \u001b[0;34m\u001b[0m\u001b[0m\n\u001b[1;32m    275\u001b[0m     \u001b[0;32mdef\u001b[0m \u001b[0mget_next_color\u001b[0m\u001b[0;34m(\u001b[0m\u001b[0mself\u001b[0m\u001b[0;34m)\u001b[0m\u001b[0;34m:\u001b[0m\u001b[0;34m\u001b[0m\u001b[0;34m\u001b[0m\u001b[0m\n",
      "\u001b[0;32m/usr/local/lib/python3.9/site-packages/matplotlib/axes/_base.py\u001b[0m in \u001b[0;36m_plot_args\u001b[0;34m(self, tup, kwargs)\u001b[0m\n\u001b[1;32m    416\u001b[0m         \u001b[0;32mif\u001b[0m \u001b[0mncx\u001b[0m \u001b[0;34m>\u001b[0m \u001b[0;36m1\u001b[0m \u001b[0;32mand\u001b[0m \u001b[0mncy\u001b[0m \u001b[0;34m>\u001b[0m \u001b[0;36m1\u001b[0m \u001b[0;32mand\u001b[0m \u001b[0mncx\u001b[0m \u001b[0;34m!=\u001b[0m \u001b[0mncy\u001b[0m\u001b[0;34m:\u001b[0m\u001b[0;34m\u001b[0m\u001b[0;34m\u001b[0m\u001b[0m\n\u001b[1;32m    417\u001b[0m             \u001b[0;32mraise\u001b[0m \u001b[0mValueError\u001b[0m\u001b[0;34m(\u001b[0m\u001b[0;34mf\"x has {ncx} columns but y has {ncy} columns\"\u001b[0m\u001b[0;34m)\u001b[0m\u001b[0;34m\u001b[0m\u001b[0;34m\u001b[0m\u001b[0m\n\u001b[0;32m--> 418\u001b[0;31m         return [func(x[:, j % ncx], y[:, j % ncy], kw, kwargs)\n\u001b[0m\u001b[1;32m    419\u001b[0m                 for j in range(max(ncx, ncy))]\n\u001b[1;32m    420\u001b[0m \u001b[0;34m\u001b[0m\u001b[0m\n",
      "\u001b[0;32m/usr/local/lib/python3.9/site-packages/matplotlib/axes/_base.py\u001b[0m in \u001b[0;36m<listcomp>\u001b[0;34m(.0)\u001b[0m\n\u001b[1;32m    416\u001b[0m         \u001b[0;32mif\u001b[0m \u001b[0mncx\u001b[0m \u001b[0;34m>\u001b[0m \u001b[0;36m1\u001b[0m \u001b[0;32mand\u001b[0m \u001b[0mncy\u001b[0m \u001b[0;34m>\u001b[0m \u001b[0;36m1\u001b[0m \u001b[0;32mand\u001b[0m \u001b[0mncx\u001b[0m \u001b[0;34m!=\u001b[0m \u001b[0mncy\u001b[0m\u001b[0;34m:\u001b[0m\u001b[0;34m\u001b[0m\u001b[0;34m\u001b[0m\u001b[0m\n\u001b[1;32m    417\u001b[0m             \u001b[0;32mraise\u001b[0m \u001b[0mValueError\u001b[0m\u001b[0;34m(\u001b[0m\u001b[0;34mf\"x has {ncx} columns but y has {ncy} columns\"\u001b[0m\u001b[0;34m)\u001b[0m\u001b[0;34m\u001b[0m\u001b[0;34m\u001b[0m\u001b[0m\n\u001b[0;32m--> 418\u001b[0;31m         return [func(x[:, j % ncx], y[:, j % ncy], kw, kwargs)\n\u001b[0m\u001b[1;32m    419\u001b[0m                 for j in range(max(ncx, ncy))]\n\u001b[1;32m    420\u001b[0m \u001b[0;34m\u001b[0m\u001b[0m\n",
      "\u001b[0;32m/usr/local/lib/python3.9/site-packages/matplotlib/axes/_base.py\u001b[0m in \u001b[0;36m_makeline\u001b[0;34m(self, x, y, kw, kwargs)\u001b[0m\n\u001b[1;32m    310\u001b[0m         \u001b[0mdefault_dict\u001b[0m \u001b[0;34m=\u001b[0m \u001b[0mself\u001b[0m\u001b[0;34m.\u001b[0m\u001b[0m_getdefaults\u001b[0m\u001b[0;34m(\u001b[0m\u001b[0mset\u001b[0m\u001b[0;34m(\u001b[0m\u001b[0;34m)\u001b[0m\u001b[0;34m,\u001b[0m \u001b[0mkw\u001b[0m\u001b[0;34m)\u001b[0m\u001b[0;34m\u001b[0m\u001b[0;34m\u001b[0m\u001b[0m\n\u001b[1;32m    311\u001b[0m         \u001b[0mself\u001b[0m\u001b[0;34m.\u001b[0m\u001b[0m_setdefaults\u001b[0m\u001b[0;34m(\u001b[0m\u001b[0mdefault_dict\u001b[0m\u001b[0;34m,\u001b[0m \u001b[0mkw\u001b[0m\u001b[0;34m)\u001b[0m\u001b[0;34m\u001b[0m\u001b[0;34m\u001b[0m\u001b[0m\n\u001b[0;32m--> 312\u001b[0;31m         \u001b[0mseg\u001b[0m \u001b[0;34m=\u001b[0m \u001b[0mmlines\u001b[0m\u001b[0;34m.\u001b[0m\u001b[0mLine2D\u001b[0m\u001b[0;34m(\u001b[0m\u001b[0mx\u001b[0m\u001b[0;34m,\u001b[0m \u001b[0my\u001b[0m\u001b[0;34m,\u001b[0m \u001b[0;34m**\u001b[0m\u001b[0mkw\u001b[0m\u001b[0;34m)\u001b[0m\u001b[0;34m\u001b[0m\u001b[0;34m\u001b[0m\u001b[0m\n\u001b[0m\u001b[1;32m    313\u001b[0m         \u001b[0;32mreturn\u001b[0m \u001b[0mseg\u001b[0m\u001b[0;34m\u001b[0m\u001b[0;34m\u001b[0m\u001b[0m\n\u001b[1;32m    314\u001b[0m \u001b[0;34m\u001b[0m\u001b[0m\n",
      "\u001b[0;32m/usr/local/lib/python3.9/site-packages/matplotlib/lines.py\u001b[0m in \u001b[0;36m__init__\u001b[0;34m(self, xdata, ydata, linewidth, linestyle, color, marker, markersize, markeredgewidth, markeredgecolor, markerfacecolor, markerfacecoloralt, fillstyle, antialiased, dash_capstyle, solid_capstyle, dash_joinstyle, solid_joinstyle, pickradius, drawstyle, markevery, **kwargs)\u001b[0m\n\u001b[1;32m    388\u001b[0m         \u001b[0;31m# update kwargs before updating data to give the caller a\u001b[0m\u001b[0;34m\u001b[0m\u001b[0;34m\u001b[0m\u001b[0;34m\u001b[0m\u001b[0m\n\u001b[1;32m    389\u001b[0m         \u001b[0;31m# chance to init axes (and hence unit support)\u001b[0m\u001b[0;34m\u001b[0m\u001b[0;34m\u001b[0m\u001b[0;34m\u001b[0m\u001b[0m\n\u001b[0;32m--> 390\u001b[0;31m         \u001b[0mself\u001b[0m\u001b[0;34m.\u001b[0m\u001b[0mupdate\u001b[0m\u001b[0;34m(\u001b[0m\u001b[0mkwargs\u001b[0m\u001b[0;34m)\u001b[0m\u001b[0;34m\u001b[0m\u001b[0;34m\u001b[0m\u001b[0m\n\u001b[0m\u001b[1;32m    391\u001b[0m         \u001b[0mself\u001b[0m\u001b[0;34m.\u001b[0m\u001b[0mpickradius\u001b[0m \u001b[0;34m=\u001b[0m \u001b[0mpickradius\u001b[0m\u001b[0;34m\u001b[0m\u001b[0;34m\u001b[0m\u001b[0m\n\u001b[1;32m    392\u001b[0m         \u001b[0mself\u001b[0m\u001b[0;34m.\u001b[0m\u001b[0mind_offset\u001b[0m \u001b[0;34m=\u001b[0m \u001b[0;36m0\u001b[0m\u001b[0;34m\u001b[0m\u001b[0;34m\u001b[0m\u001b[0m\n",
      "\u001b[0;32m/usr/local/lib/python3.9/site-packages/matplotlib/artist.py\u001b[0m in \u001b[0;36mupdate\u001b[0;34m(self, props)\u001b[0m\n\u001b[1;32m    994\u001b[0m                     \u001b[0mfunc\u001b[0m \u001b[0;34m=\u001b[0m \u001b[0mgetattr\u001b[0m\u001b[0;34m(\u001b[0m\u001b[0mself\u001b[0m\u001b[0;34m,\u001b[0m \u001b[0;34mf\"set_{k}\"\u001b[0m\u001b[0;34m,\u001b[0m \u001b[0;32mNone\u001b[0m\u001b[0;34m)\u001b[0m\u001b[0;34m\u001b[0m\u001b[0;34m\u001b[0m\u001b[0m\n\u001b[1;32m    995\u001b[0m                     \u001b[0;32mif\u001b[0m \u001b[0;32mnot\u001b[0m \u001b[0mcallable\u001b[0m\u001b[0;34m(\u001b[0m\u001b[0mfunc\u001b[0m\u001b[0;34m)\u001b[0m\u001b[0;34m:\u001b[0m\u001b[0;34m\u001b[0m\u001b[0;34m\u001b[0m\u001b[0m\n\u001b[0;32m--> 996\u001b[0;31m                         raise AttributeError(f\"{type(self).__name__!r} object \"\n\u001b[0m\u001b[1;32m    997\u001b[0m                                              f\"has no property {k!r}\")\n\u001b[1;32m    998\u001b[0m                     \u001b[0mret\u001b[0m\u001b[0;34m.\u001b[0m\u001b[0mappend\u001b[0m\u001b[0;34m(\u001b[0m\u001b[0mfunc\u001b[0m\u001b[0;34m(\u001b[0m\u001b[0mv\u001b[0m\u001b[0;34m)\u001b[0m\u001b[0;34m)\u001b[0m\u001b[0;34m\u001b[0m\u001b[0;34m\u001b[0m\u001b[0m\n",
      "\u001b[0;31mAttributeError\u001b[0m: 'Line2D' object has no property 'lable'"
     ]
    },
    {
     "data": {
      "image/png": "[encoded data removed]",
      "text/plain": [
       "<Figure size 432x288 with 1 Axes>"
      ]
     },
     "metadata": {
      "needs_background": "light"
     },
     "output_type": "display_data"
    }
   ],
   "source": [
    "for i in range(4):\n",
    "    avg_spec=avg_label(i, spectra, label_matrix)\n",
    "    plt.plot(wave, avg_spec, lable=f\"label: {i}\")\n",
    "    plt.legend(loc=best)\n",
    "    plt.show()"
   ]
  },
  {
   "cell_type": "code",
   "execution_count": null,
   "id": "quiet-month",
   "metadata": {},
   "outputs": [],
   "source": []
  }
 ],
 "metadata": {
  "kernelspec": {
   "display_name": "Python 3",
   "language": "python",
   "name": "python3"
  },
  "language_info": {
   "codemirror_mode": {
    "name": "ipython",
    "version": 3
   },
   "file_extension": ".py",
   "mimetype": "text/x-python",
   "name": "python",
   "nbconvert_exporter": "python",
   "pygments_lexer": "ipython3",
   "version": "3.9.2"
  }
 },
 "nbformat": 4,
 "nbformat_minor": 5
}
